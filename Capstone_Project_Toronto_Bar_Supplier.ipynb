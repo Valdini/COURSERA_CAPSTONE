{
  "nbformat": 4,
  "nbformat_minor": 0,
  "metadata": {
    "colab": {
      "name": "Capstone Project - Toronto Bar Supplier.ipynb",
      "provenance": [],
      "authorship_tag": "ABX9TyOCQzf1hxVmVQ+z0N3SYt2q",
      "include_colab_link": true
    },
    "kernelspec": {
      "name": "python3",
      "display_name": "Python 3"
    }
  },
  "cells": [
    {
      "cell_type": "markdown",
      "metadata": {
        "id": "view-in-github",
        "colab_type": "text"
      },
      "source": [
        "<a href=\"https://colab.research.google.com/github/Valdini/COURSERA_CAPSTONE/blob/main/Capstone_Project_Toronto_Bar_Supplier.ipynb\" target=\"_parent\"><img src=\"https://colab.research.google.com/assets/colab-badge.svg\" alt=\"Open In Colab\"/></a>"
      ]
    },
    {
      "cell_type": "markdown",
      "metadata": {
        "id": "BkDn5Wqzvbt2"
      },
      "source": [
        "**Introduction / Business Problem**\n",
        "\n",
        "The globally operating bar equipment supplier \"Bar10der\" is entering the Canadian market and is targeting large Canadian cities to supply local bars with bar equipment (e.g. chairs, beer taps). Bar10der is a young, asset-light business reducing operational cost by delivering bar supply without a truck or car fleet. Bar10der reduces the distance between warehouse and bar by renting a multi-purpose location serving as office space and warehouse in the city center. In order to determine the optimal warehouse location, Bar10der looks for the city area that contains the highest bar density.\n"
      ]
    },
    {
      "cell_type": "markdown",
      "metadata": {
        "id": "_W6fqcPwxaTU"
      },
      "source": [
        "**Data & Methods used**\n",
        "\n",
        "In order to solve the problem, data from 3 data sources will be used: location data of bars in Toronto fetched from the Foursquare API, neighborhood identification data from Wikipedia and additional geospatial data. By identifying those Toronto postal codes that have the highest bar density (determined by the number of bars), the ideal Toronto area (as postal code) will be identified and visualized on a Folium map based on geolocation data."
      ]
    },
    {
      "cell_type": "markdown",
      "metadata": {
        "id": "Us4ioxiBXocu"
      },
      "source": [
        "**Creating a Wikipedia-based list of boroughs in Toronto**"
      ]
    },
    {
      "cell_type": "code",
      "metadata": {
        "id": "hgq1NWzwEnTc",
        "outputId": "b2122fc0-33e0-4bac-85ff-a7899b5090de",
        "colab": {
          "base_uri": "https://localhost:8080/",
          "height": 506
        }
      },
      "source": [
        "#Creating a Wikipedia-based list of boroughs and neighborhoods in Toronto\n",
        "\n",
        "import pandas as pd #importing the pandas library\n",
        "import numpy as np #importing the numpy library\n",
        "df_scrape = pd.read_html('https://en.wikipedia.org/wiki/List_of_postal_codes_of_Canada:_M') #telling pandas to find URL\n",
        "df_table = df_scrape[0] #telling pandas to take table\n",
        "df_toronto = df_table[['Postal Code','Borough','Neighbourhood']] #taking table columns\n",
        "df_toronto.columns = ['Postal Code','Borough','Neighborhood'] #setting/renaming table columns\n",
        "df_toronto_cleaned = df_toronto[df_toronto.Borough != 'Not assigned'] #ignoring not assigned values for borough\n",
        "df_toronto_cleaned.groupby('Postal Code') #showing all neighborhoods per postal code\n",
        "df_tc = df_toronto_cleaned #shorting the table name\n",
        "df_tc['Neighborhood'] = np.where(df_tc['Neighborhood'] == 'Not assigned', df_tc['Borough'], df_tc['Neighborhood']) #replacing not assigned values of neighborhood with their borough values\n",
        "df_tc.index = df_tc.index - 2 #cleaning index\n",
        "df_tc"
      ],
      "execution_count": 182,
      "outputs": [
        {
          "output_type": "stream",
          "text": [
            "/usr/local/lib/python3.6/dist-packages/ipykernel_launcher.py:12: SettingWithCopyWarning: \n",
            "A value is trying to be set on a copy of a slice from a DataFrame.\n",
            "Try using .loc[row_indexer,col_indexer] = value instead\n",
            "\n",
            "See the caveats in the documentation: https://pandas.pydata.org/pandas-docs/stable/user_guide/indexing.html#returning-a-view-versus-a-copy\n",
            "  if sys.path[0] == '':\n"
          ],
          "name": "stderr"
        },
        {
          "output_type": "execute_result",
          "data": {
            "text/html": [
              "<div>\n",
              "<style scoped>\n",
              "    .dataframe tbody tr th:only-of-type {\n",
              "        vertical-align: middle;\n",
              "    }\n",
              "\n",
              "    .dataframe tbody tr th {\n",
              "        vertical-align: top;\n",
              "    }\n",
              "\n",
              "    .dataframe thead th {\n",
              "        text-align: right;\n",
              "    }\n",
              "</style>\n",
              "<table border=\"1\" class=\"dataframe\">\n",
              "  <thead>\n",
              "    <tr style=\"text-align: right;\">\n",
              "      <th></th>\n",
              "      <th>Postal Code</th>\n",
              "      <th>Borough</th>\n",
              "      <th>Neighborhood</th>\n",
              "    </tr>\n",
              "  </thead>\n",
              "  <tbody>\n",
              "    <tr>\n",
              "      <th>0</th>\n",
              "      <td>M3A</td>\n",
              "      <td>North York</td>\n",
              "      <td>Parkwoods</td>\n",
              "    </tr>\n",
              "    <tr>\n",
              "      <th>1</th>\n",
              "      <td>M4A</td>\n",
              "      <td>North York</td>\n",
              "      <td>Victoria Village</td>\n",
              "    </tr>\n",
              "    <tr>\n",
              "      <th>2</th>\n",
              "      <td>M5A</td>\n",
              "      <td>Downtown Toronto</td>\n",
              "      <td>Regent Park, Harbourfront</td>\n",
              "    </tr>\n",
              "    <tr>\n",
              "      <th>3</th>\n",
              "      <td>M6A</td>\n",
              "      <td>North York</td>\n",
              "      <td>Lawrence Manor, Lawrence Heights</td>\n",
              "    </tr>\n",
              "    <tr>\n",
              "      <th>4</th>\n",
              "      <td>M7A</td>\n",
              "      <td>Downtown Toronto</td>\n",
              "      <td>Queen's Park, Ontario Provincial Government</td>\n",
              "    </tr>\n",
              "    <tr>\n",
              "      <th>...</th>\n",
              "      <td>...</td>\n",
              "      <td>...</td>\n",
              "      <td>...</td>\n",
              "    </tr>\n",
              "    <tr>\n",
              "      <th>158</th>\n",
              "      <td>M8X</td>\n",
              "      <td>Etobicoke</td>\n",
              "      <td>The Kingsway, Montgomery Road, Old Mill North</td>\n",
              "    </tr>\n",
              "    <tr>\n",
              "      <th>163</th>\n",
              "      <td>M4Y</td>\n",
              "      <td>Downtown Toronto</td>\n",
              "      <td>Church and Wellesley</td>\n",
              "    </tr>\n",
              "    <tr>\n",
              "      <th>166</th>\n",
              "      <td>M7Y</td>\n",
              "      <td>East Toronto</td>\n",
              "      <td>Business reply mail Processing Centre, South C...</td>\n",
              "    </tr>\n",
              "    <tr>\n",
              "      <th>167</th>\n",
              "      <td>M8Y</td>\n",
              "      <td>Etobicoke</td>\n",
              "      <td>Old Mill South, King's Mill Park, Sunnylea, Hu...</td>\n",
              "    </tr>\n",
              "    <tr>\n",
              "      <th>176</th>\n",
              "      <td>M8Z</td>\n",
              "      <td>Etobicoke</td>\n",
              "      <td>Mimico NW, The Queensway West, South of Bloor,...</td>\n",
              "    </tr>\n",
              "  </tbody>\n",
              "</table>\n",
              "<p>103 rows × 3 columns</p>\n",
              "</div>"
            ],
            "text/plain": [
              "    Postal Code  ...                                       Neighborhood\n",
              "0           M3A  ...                                          Parkwoods\n",
              "1           M4A  ...                                   Victoria Village\n",
              "2           M5A  ...                          Regent Park, Harbourfront\n",
              "3           M6A  ...                   Lawrence Manor, Lawrence Heights\n",
              "4           M7A  ...        Queen's Park, Ontario Provincial Government\n",
              "..          ...  ...                                                ...\n",
              "158         M8X  ...      The Kingsway, Montgomery Road, Old Mill North\n",
              "163         M4Y  ...                               Church and Wellesley\n",
              "166         M7Y  ...  Business reply mail Processing Centre, South C...\n",
              "167         M8Y  ...  Old Mill South, King's Mill Park, Sunnylea, Hu...\n",
              "176         M8Z  ...  Mimico NW, The Queensway West, South of Bloor,...\n",
              "\n",
              "[103 rows x 3 columns]"
            ]
          },
          "metadata": {
            "tags": []
          },
          "execution_count": 182
        }
      ]
    },
    {
      "cell_type": "markdown",
      "metadata": {
        "id": "AptS685utOqL"
      },
      "source": [
        "**Merging Wikipedia-based list with geospatial data**"
      ]
    },
    {
      "cell_type": "code",
      "metadata": {
        "id": "O_fCPN_lQ3ES",
        "outputId": "fa19691f-5496-4eaa-ecca-57979b438345",
        "colab": {
          "base_uri": "https://localhost:8080/",
          "height": 399
        }
      },
      "source": [
        "#Loading geo data and merging it to Wikipedia table\n",
        "\n",
        "df_geo = pd.read_csv('http://cocl.us/Geospatial_data') #creating a new dataframe using the geospatial data csv file\n",
        "df_wp = df_tc.merge(df_geo,on='Postal Code',how = 'left') #adding the latitude and longitue by merging on the common postal code column\n",
        "df_wp"
      ],
      "execution_count": 183,
      "outputs": [
        {
          "output_type": "execute_result",
          "data": {
            "text/html": [
              "<div>\n",
              "<style scoped>\n",
              "    .dataframe tbody tr th:only-of-type {\n",
              "        vertical-align: middle;\n",
              "    }\n",
              "\n",
              "    .dataframe tbody tr th {\n",
              "        vertical-align: top;\n",
              "    }\n",
              "\n",
              "    .dataframe thead th {\n",
              "        text-align: right;\n",
              "    }\n",
              "</style>\n",
              "<table border=\"1\" class=\"dataframe\">\n",
              "  <thead>\n",
              "    <tr style=\"text-align: right;\">\n",
              "      <th></th>\n",
              "      <th>Postal Code</th>\n",
              "      <th>Borough</th>\n",
              "      <th>Neighborhood</th>\n",
              "      <th>Latitude</th>\n",
              "      <th>Longitude</th>\n",
              "    </tr>\n",
              "  </thead>\n",
              "  <tbody>\n",
              "    <tr>\n",
              "      <th>0</th>\n",
              "      <td>M3A</td>\n",
              "      <td>North York</td>\n",
              "      <td>Parkwoods</td>\n",
              "      <td>43.753259</td>\n",
              "      <td>-79.329656</td>\n",
              "    </tr>\n",
              "    <tr>\n",
              "      <th>1</th>\n",
              "      <td>M4A</td>\n",
              "      <td>North York</td>\n",
              "      <td>Victoria Village</td>\n",
              "      <td>43.725882</td>\n",
              "      <td>-79.315572</td>\n",
              "    </tr>\n",
              "    <tr>\n",
              "      <th>2</th>\n",
              "      <td>M5A</td>\n",
              "      <td>Downtown Toronto</td>\n",
              "      <td>Regent Park, Harbourfront</td>\n",
              "      <td>43.654260</td>\n",
              "      <td>-79.360636</td>\n",
              "    </tr>\n",
              "    <tr>\n",
              "      <th>3</th>\n",
              "      <td>M6A</td>\n",
              "      <td>North York</td>\n",
              "      <td>Lawrence Manor, Lawrence Heights</td>\n",
              "      <td>43.718518</td>\n",
              "      <td>-79.464763</td>\n",
              "    </tr>\n",
              "    <tr>\n",
              "      <th>4</th>\n",
              "      <td>M7A</td>\n",
              "      <td>Downtown Toronto</td>\n",
              "      <td>Queen's Park, Ontario Provincial Government</td>\n",
              "      <td>43.662301</td>\n",
              "      <td>-79.389494</td>\n",
              "    </tr>\n",
              "    <tr>\n",
              "      <th>...</th>\n",
              "      <td>...</td>\n",
              "      <td>...</td>\n",
              "      <td>...</td>\n",
              "      <td>...</td>\n",
              "      <td>...</td>\n",
              "    </tr>\n",
              "    <tr>\n",
              "      <th>98</th>\n",
              "      <td>M8X</td>\n",
              "      <td>Etobicoke</td>\n",
              "      <td>The Kingsway, Montgomery Road, Old Mill North</td>\n",
              "      <td>43.653654</td>\n",
              "      <td>-79.506944</td>\n",
              "    </tr>\n",
              "    <tr>\n",
              "      <th>99</th>\n",
              "      <td>M4Y</td>\n",
              "      <td>Downtown Toronto</td>\n",
              "      <td>Church and Wellesley</td>\n",
              "      <td>43.665860</td>\n",
              "      <td>-79.383160</td>\n",
              "    </tr>\n",
              "    <tr>\n",
              "      <th>100</th>\n",
              "      <td>M7Y</td>\n",
              "      <td>East Toronto</td>\n",
              "      <td>Business reply mail Processing Centre, South C...</td>\n",
              "      <td>43.662744</td>\n",
              "      <td>-79.321558</td>\n",
              "    </tr>\n",
              "    <tr>\n",
              "      <th>101</th>\n",
              "      <td>M8Y</td>\n",
              "      <td>Etobicoke</td>\n",
              "      <td>Old Mill South, King's Mill Park, Sunnylea, Hu...</td>\n",
              "      <td>43.636258</td>\n",
              "      <td>-79.498509</td>\n",
              "    </tr>\n",
              "    <tr>\n",
              "      <th>102</th>\n",
              "      <td>M8Z</td>\n",
              "      <td>Etobicoke</td>\n",
              "      <td>Mimico NW, The Queensway West, South of Bloor,...</td>\n",
              "      <td>43.628841</td>\n",
              "      <td>-79.520999</td>\n",
              "    </tr>\n",
              "  </tbody>\n",
              "</table>\n",
              "<p>103 rows × 5 columns</p>\n",
              "</div>"
            ],
            "text/plain": [
              "    Postal Code           Borough  ...   Latitude  Longitude\n",
              "0           M3A        North York  ...  43.753259 -79.329656\n",
              "1           M4A        North York  ...  43.725882 -79.315572\n",
              "2           M5A  Downtown Toronto  ...  43.654260 -79.360636\n",
              "3           M6A        North York  ...  43.718518 -79.464763\n",
              "4           M7A  Downtown Toronto  ...  43.662301 -79.389494\n",
              "..          ...               ...  ...        ...        ...\n",
              "98          M8X         Etobicoke  ...  43.653654 -79.506944\n",
              "99          M4Y  Downtown Toronto  ...  43.665860 -79.383160\n",
              "100         M7Y      East Toronto  ...  43.662744 -79.321558\n",
              "101         M8Y         Etobicoke  ...  43.636258 -79.498509\n",
              "102         M8Z         Etobicoke  ...  43.628841 -79.520999\n",
              "\n",
              "[103 rows x 5 columns]"
            ]
          },
          "metadata": {
            "tags": []
          },
          "execution_count": 183
        }
      ]
    },
    {
      "cell_type": "markdown",
      "metadata": {
        "id": "5XtV2PIeNMYb"
      },
      "source": [
        "**Creating a Foursquare-based list of bars in Toronto**"
      ]
    },
    {
      "cell_type": "code",
      "metadata": {
        "id": "ejc773w8bF_v",
        "outputId": "c008d30a-853e-4e00-9b30-258adda79613",
        "colab": {
          "base_uri": "https://localhost:8080/",
          "height": 266
        }
      },
      "source": [
        "#Performing necessary imports\n",
        "\n",
        "import requests # library to handle requests\n",
        "import random # library for random number generation\n",
        "\n",
        "\n",
        "!pip install geopy\n",
        "from geopy.geocoders import Nominatim # module to convert an address into latitude and longitude values\n",
        "\n",
        "# libraries for displaying images\n",
        "from IPython.display import Image \n",
        "from IPython.core.display import HTML \n",
        "    \n",
        "# tranforming json file into a pandas dataframe library\n",
        "from pandas import json_normalize\n",
        "\n",
        "\n",
        "! pip install folium==0.5.0\n",
        "import folium # plotting library\n",
        "\n",
        "print('Folium installed')\n",
        "print('Libraries imported.')"
      ],
      "execution_count": 184,
      "outputs": [
        {
          "output_type": "stream",
          "text": [
            "Requirement already satisfied: geopy in /usr/local/lib/python3.6/dist-packages (1.17.0)\n",
            "Requirement already satisfied: geographiclib<2,>=1.49 in /usr/local/lib/python3.6/dist-packages (from geopy) (1.50)\n",
            "Requirement already satisfied: folium==0.5.0 in /usr/local/lib/python3.6/dist-packages (0.5.0)\n",
            "Requirement already satisfied: six in /usr/local/lib/python3.6/dist-packages (from folium==0.5.0) (1.15.0)\n",
            "Requirement already satisfied: requests in /usr/local/lib/python3.6/dist-packages (from folium==0.5.0) (2.23.0)\n",
            "Requirement already satisfied: jinja2 in /usr/local/lib/python3.6/dist-packages (from folium==0.5.0) (2.11.2)\n",
            "Requirement already satisfied: branca in /usr/local/lib/python3.6/dist-packages (from folium==0.5.0) (0.4.1)\n",
            "Requirement already satisfied: chardet<4,>=3.0.2 in /usr/local/lib/python3.6/dist-packages (from requests->folium==0.5.0) (3.0.4)\n",
            "Requirement already satisfied: certifi>=2017.4.17 in /usr/local/lib/python3.6/dist-packages (from requests->folium==0.5.0) (2020.6.20)\n",
            "Requirement already satisfied: idna<3,>=2.5 in /usr/local/lib/python3.6/dist-packages (from requests->folium==0.5.0) (2.10)\n",
            "Requirement already satisfied: urllib3!=1.25.0,!=1.25.1,<1.26,>=1.21.1 in /usr/local/lib/python3.6/dist-packages (from requests->folium==0.5.0) (1.24.3)\n",
            "Requirement already satisfied: MarkupSafe>=0.23 in /usr/local/lib/python3.6/dist-packages (from jinja2->folium==0.5.0) (1.1.1)\n",
            "Folium installed\n",
            "Libraries imported.\n"
          ],
          "name": "stdout"
        }
      ]
    },
    {
      "cell_type": "code",
      "metadata": {
        "id": "tlWIVDRqbZdB"
      },
      "source": [
        "#Passing Foursquare API access data\n",
        "\n",
        "CLIENT_ID = 'QUUMEYFVW03TKZNFU4OD15I1EC45ZZ0VI1P5ZMENZBIFGJA1' #Foursquare ID\n",
        "CLIENT_SECRET = 'U1TGTC0RS0PQ4GVUD5LZDS5DMZDWQHI1KUGXSANWEM014INU' #Foursquare Secret\n",
        "VERSION = '20180604'\n",
        "LIMIT = 30"
      ],
      "execution_count": 185,
      "outputs": []
    },
    {
      "cell_type": "code",
      "metadata": {
        "id": "vz33nnIexWTh"
      },
      "source": [
        "#Building the Foursquare API search query in Toronto and initializing Folium map\n",
        "\n",
        "address = 'Toronto'\n",
        "geolocator = Nominatim(user_agent=\"foursquare_agent\")\n",
        "location = geolocator.geocode(address)\n",
        "latitude = location.latitude\n",
        "longitude = location.longitude\n",
        "location_map = folium.Map(location=[latitude, longitude], zoom_start=15)"
      ],
      "execution_count": 186,
      "outputs": []
    },
    {
      "cell_type": "code",
      "metadata": {
        "id": "8w-FCWesNr1V",
        "outputId": "bda79fb0-8580-450c-ec55-4e8addecdb52",
        "colab": {
          "base_uri": "https://localhost:8080/",
          "height": 35
        }
      },
      "source": [
        "#Building the Foursquare API search query for bars\n",
        "\n",
        "search_query = 'Bar'\n",
        "radius = 10000\n",
        "print(search_query + ' .... OK!')\n",
        "url = 'https://api.foursquare.com/v2/venues/search?client_id={}&client_secret={}&ll={},{}&v={}&query={}&radius={}&limit={}'.format(CLIENT_ID, CLIENT_SECRET, latitude, longitude, VERSION, search_query, radius, LIMIT)\n",
        "results = requests.get(url).json()"
      ],
      "execution_count": 187,
      "outputs": [
        {
          "output_type": "stream",
          "text": [
            "Bar .... OK!\n"
          ],
          "name": "stdout"
        }
      ]
    },
    {
      "cell_type": "code",
      "metadata": {
        "id": "R0RBYSMZOpZM",
        "outputId": "dd0dd814-a257-4b6c-8015-1fbf21a28303",
        "colab": {
          "base_uri": "https://localhost:8080/",
          "height": 400
        }
      },
      "source": [
        "# assign relevant part of JSON to venues\n",
        "\n",
        "venues = results['response']['venues']\n",
        "\n",
        "# tranform venues into a dataframe\n",
        "\n",
        "df_fs = json_normalize(venues)\n",
        "df_fs['location.postalCode'] = df_fs['location.postalCode'].str[:3]\n",
        "df_fs.head()"
      ],
      "execution_count": 188,
      "outputs": [
        {
          "output_type": "execute_result",
          "data": {
            "text/html": [
              "<div>\n",
              "<style scoped>\n",
              "    .dataframe tbody tr th:only-of-type {\n",
              "        vertical-align: middle;\n",
              "    }\n",
              "\n",
              "    .dataframe tbody tr th {\n",
              "        vertical-align: top;\n",
              "    }\n",
              "\n",
              "    .dataframe thead th {\n",
              "        text-align: right;\n",
              "    }\n",
              "</style>\n",
              "<table border=\"1\" class=\"dataframe\">\n",
              "  <thead>\n",
              "    <tr style=\"text-align: right;\">\n",
              "      <th></th>\n",
              "      <th>id</th>\n",
              "      <th>name</th>\n",
              "      <th>categories</th>\n",
              "      <th>referralId</th>\n",
              "      <th>hasPerk</th>\n",
              "      <th>location.address</th>\n",
              "      <th>location.crossStreet</th>\n",
              "      <th>location.lat</th>\n",
              "      <th>location.lng</th>\n",
              "      <th>location.labeledLatLngs</th>\n",
              "      <th>location.distance</th>\n",
              "      <th>location.postalCode</th>\n",
              "      <th>location.cc</th>\n",
              "      <th>location.city</th>\n",
              "      <th>location.state</th>\n",
              "      <th>location.country</th>\n",
              "      <th>location.formattedAddress</th>\n",
              "      <th>location.neighborhood</th>\n",
              "      <th>venuePage.id</th>\n",
              "    </tr>\n",
              "  </thead>\n",
              "  <tbody>\n",
              "    <tr>\n",
              "      <th>0</th>\n",
              "      <td>4af4e6e2f964a52052f721e3</td>\n",
              "      <td>St. Louis Bar &amp; Grill</td>\n",
              "      <td>[{'id': '4bf58dd8d48988d116941735', 'name': 'B...</td>\n",
              "      <td>v-1603830400</td>\n",
              "      <td>False</td>\n",
              "      <td>595 Bay St #A09</td>\n",
              "      <td>Atrium on Bay</td>\n",
              "      <td>43.656562</td>\n",
              "      <td>-79.382737</td>\n",
              "      <td>[{'label': 'display', 'lat': 43.65656209045694...</td>\n",
              "      <td>356</td>\n",
              "      <td>M5G</td>\n",
              "      <td>CA</td>\n",
              "      <td>Toronto</td>\n",
              "      <td>ON</td>\n",
              "      <td>Canada</td>\n",
              "      <td>[595 Bay St #A09 (Atrium on Bay), Toronto ON M...</td>\n",
              "      <td>NaN</td>\n",
              "      <td>NaN</td>\n",
              "    </tr>\n",
              "    <tr>\n",
              "      <th>1</th>\n",
              "      <td>5612ea8b498e102e764fc304</td>\n",
              "      <td>Bar Hop Brewco</td>\n",
              "      <td>[{'id': '56aa371ce4b08b9a8d57356c', 'name': 'B...</td>\n",
              "      <td>v-1603830400</td>\n",
              "      <td>False</td>\n",
              "      <td>137 Peter St</td>\n",
              "      <td>Peter &amp; Richmond</td>\n",
              "      <td>43.649069</td>\n",
              "      <td>-79.393456</td>\n",
              "      <td>[{'label': 'display', 'lat': 43.64906884285040...</td>\n",
              "      <td>910</td>\n",
              "      <td>M5V</td>\n",
              "      <td>CA</td>\n",
              "      <td>Toronto</td>\n",
              "      <td>ON</td>\n",
              "      <td>Canada</td>\n",
              "      <td>[137 Peter St (Peter &amp; Richmond), Toronto ON M...</td>\n",
              "      <td>NaN</td>\n",
              "      <td>NaN</td>\n",
              "    </tr>\n",
              "    <tr>\n",
              "      <th>2</th>\n",
              "      <td>52f6816f11d24a43115dc834</td>\n",
              "      <td>Scaddabush Italian Kitchen &amp; Bar</td>\n",
              "      <td>[{'id': '4bf58dd8d48988d110941735', 'name': 'I...</td>\n",
              "      <td>v-1603830400</td>\n",
              "      <td>False</td>\n",
              "      <td>382 Yonge Street, Unit #7</td>\n",
              "      <td>Gerrard</td>\n",
              "      <td>43.658920</td>\n",
              "      <td>-79.382891</td>\n",
              "      <td>[{'label': 'display', 'lat': 43.65892029202872...</td>\n",
              "      <td>611</td>\n",
              "      <td>M5B</td>\n",
              "      <td>CA</td>\n",
              "      <td>Toronto</td>\n",
              "      <td>ON</td>\n",
              "      <td>Canada</td>\n",
              "      <td>[382 Yonge Street, Unit #7 (Gerrard), Toronto ...</td>\n",
              "      <td>NaN</td>\n",
              "      <td>NaN</td>\n",
              "    </tr>\n",
              "    <tr>\n",
              "      <th>3</th>\n",
              "      <td>4d2b615e342d6dcb2b8115cb</td>\n",
              "      <td>Earls Kitchen &amp; Bar</td>\n",
              "      <td>[{'id': '4bf58dd8d48988d116941735', 'name': 'B...</td>\n",
              "      <td>v-1603830400</td>\n",
              "      <td>False</td>\n",
              "      <td>150 King St. W.</td>\n",
              "      <td>at York St.</td>\n",
              "      <td>43.647946</td>\n",
              "      <td>-79.383706</td>\n",
              "      <td>[{'label': 'display', 'lat': 43.64794566298030...</td>\n",
              "      <td>616</td>\n",
              "      <td>M5H</td>\n",
              "      <td>CA</td>\n",
              "      <td>Toronto</td>\n",
              "      <td>ON</td>\n",
              "      <td>Canada</td>\n",
              "      <td>[150 King St. W. (at York St.), Toronto ON M5H...</td>\n",
              "      <td>NaN</td>\n",
              "      <td>NaN</td>\n",
              "    </tr>\n",
              "    <tr>\n",
              "      <th>4</th>\n",
              "      <td>57dd99cb498ee67580d16390</td>\n",
              "      <td>Bar Verde</td>\n",
              "      <td>[{'id': '4bf58dd8d48988d157941735', 'name': 'N...</td>\n",
              "      <td>v-1603830400</td>\n",
              "      <td>False</td>\n",
              "      <td>260 Yonge Street</td>\n",
              "      <td>NaN</td>\n",
              "      <td>43.654837</td>\n",
              "      <td>-79.380742</td>\n",
              "      <td>[{'label': 'display', 'lat': 43.654837, 'lng':...</td>\n",
              "      <td>298</td>\n",
              "      <td>M5B</td>\n",
              "      <td>CA</td>\n",
              "      <td>Toronto</td>\n",
              "      <td>ON</td>\n",
              "      <td>Canada</td>\n",
              "      <td>[260 Yonge Street, Toronto ON M5B 2L9, Canada]</td>\n",
              "      <td>NaN</td>\n",
              "      <td>NaN</td>\n",
              "    </tr>\n",
              "  </tbody>\n",
              "</table>\n",
              "</div>"
            ],
            "text/plain": [
              "                         id  ... venuePage.id\n",
              "0  4af4e6e2f964a52052f721e3  ...          NaN\n",
              "1  5612ea8b498e102e764fc304  ...          NaN\n",
              "2  52f6816f11d24a43115dc834  ...          NaN\n",
              "3  4d2b615e342d6dcb2b8115cb  ...          NaN\n",
              "4  57dd99cb498ee67580d16390  ...          NaN\n",
              "\n",
              "[5 rows x 19 columns]"
            ]
          },
          "metadata": {
            "tags": []
          },
          "execution_count": 188
        }
      ]
    },
    {
      "cell_type": "markdown",
      "metadata": {
        "id": "WrrOuBkje36h"
      },
      "source": [
        "**Merging Wikipedia/Geodata and Foursquare tables on postal code**"
      ]
    },
    {
      "cell_type": "code",
      "metadata": {
        "id": "OiGo_kuFdRxC"
      },
      "source": [
        "#Creating the merged table and grouping it by postal code occurrence to see highest bar density postal codes\n",
        "\n",
        "df_comb = pd.merge(df_fs,df_wp,left_on = df_fs['location.postalCode'], right_on = df_wp['Postal Code'], how = 'left')"
      ],
      "execution_count": 193,
      "outputs": []
    },
    {
      "cell_type": "markdown",
      "metadata": {
        "id": "WDcqbxWGBlW7"
      },
      "source": [
        "**Results and discussion**"
      ]
    },
    {
      "cell_type": "code",
      "metadata": {
        "id": "ZWw24u0KBmK8",
        "outputId": "b446012c-fc7e-4c7a-9481-edd6d2835492",
        "colab": {
          "base_uri": "https://localhost:8080/",
          "height": 212
        }
      },
      "source": [
        "df_comb.groupby(df_comb['Postal Code']).size().sort_values(ascending=[False])"
      ],
      "execution_count": 194,
      "outputs": [
        {
          "output_type": "execute_result",
          "data": {
            "text/plain": [
              "Postal Code\n",
              "M5H    6\n",
              "M5B    5\n",
              "M5V    4\n",
              "M5J    2\n",
              "M5E    2\n",
              "M5C    2\n",
              "M5T    1\n",
              "M5G    1\n",
              "M4Y    1\n",
              "dtype: int64"
            ]
          },
          "metadata": {
            "tags": []
          },
          "execution_count": 194
        }
      ]
    },
    {
      "cell_type": "markdown",
      "metadata": {
        "id": "chJdnPJrBv_Y"
      },
      "source": [
        "The analysis shows that postal code M5H has the highest bar density with 6 bars. In the following, the result is visualized."
      ]
    },
    {
      "cell_type": "markdown",
      "metadata": {
        "id": "QfmmUoQYuP8R"
      },
      "source": [
        "**Visualizing the result on a Folium map**"
      ]
    },
    {
      "cell_type": "code",
      "metadata": {
        "id": "EO0leI0Rhwdi",
        "outputId": "c4e8a0f1-5583-4c4e-9eae-626636810429",
        "colab": {
          "base_uri": "https://localhost:8080/",
          "height": 35
        }
      },
      "source": [
        "#Overview of postal codes\n",
        "\n",
        "postcodes = df_comb['Postal Code'].unique().tolist()\n",
        "postcodes"
      ],
      "execution_count": 190,
      "outputs": [
        {
          "output_type": "execute_result",
          "data": {
            "text/plain": [
              "['M5G', 'M5V', 'M5B', 'M5H', 'M5J', nan, 'M5C', 'M5T', 'M5E', 'M4Y']"
            ]
          },
          "metadata": {
            "tags": []
          },
          "execution_count": 190
        }
      ]
    },
    {
      "cell_type": "code",
      "metadata": {
        "id": "NEX6xjtUmrHG"
      },
      "source": [
        "#Mapping postal codes to fill colours for visualization\n",
        "\n",
        "color_dict = {'M5G': 'lightgreen', \n",
        "'M5B': 'red', \n",
        "'M5H': 'blue', \n",
        "'M5J': 'purple', \n",
        "'M5C': 'orange',\n",
        "'nan': 'darkred',\n",
        "'M5E': 'lightred',\n",
        "'M5T': 'beige',\n",
        "'M4Y': 'darkblue'}\n",
        "df_comb['fillcolor'] = df_comb['Postal Code'].map(color_dict)"
      ],
      "execution_count": 191,
      "outputs": []
    },
    {
      "cell_type": "code",
      "metadata": {
        "id": "SFlfBN0L35K9",
        "outputId": "47b97cfc-84db-4bff-9394-75315b52fb75",
        "colab": {
          "base_uri": "https://localhost:8080/",
          "height": 969
        }
      },
      "source": [
        "#Creating the Folium map with popup showing the postal code\n",
        "\n",
        "df_comb.dropna(subset = [\"fillcolor\"], inplace=True)\n",
        "Latitudelist = df_comb['location.lat'].astype(float).values.tolist()\n",
        "Longitudelist = df_comb['location.lng'].astype(float).values.tolist()\n",
        "Colorlist = df_comb['fillcolor'].values.tolist()\n",
        "PClist = df_comb['Postal Code'].values.tolist()\n",
        "for lat,lng,col,pc in zip(Latitudelist,Longitudelist,Colorlist,PClist):\n",
        "  label = folium.Popup(str(pc), parse_html=True)\n",
        "  folium.CircleMarker(\n",
        "    [lat,lng],\n",
        "    radius=10,\n",
        "    fill = True,\n",
        "    fill_color = col,\n",
        "    fill_opacity = 0.6,\n",
        "    popup = label\n",
        ").add_to(location_map)\n",
        "location_map"
      ],
      "execution_count": 192,
      "outputs": [
        {
          "output_type": "execute_result",
          "data": {
            "text/html": [
              "<div style=\"width:100%;\"><div style=\"position:relative;width:100%;height:0;padding-bottom:60%;\"><span style=\"color:#565656\">Make this Notebook Trusted to load map: File -> Trust Notebook</span><iframe src=\"about:blank\" style=\"position:absolute;width:100%;height:100%;left:0;top:0;border:none !important;\" data-html=PCFET0NUWVBFIGh0bWw+CjxoZWFkPiAgICAKICAgIDxtZXRhIGh0dHAtZXF1aXY9ImNvbnRlbnQtdHlwZSIgY29udGVudD0idGV4dC9odG1sOyBjaGFyc2V0PVVURi04IiAvPgogICAgPHNjcmlwdD5MX1BSRUZFUl9DQU5WQVMgPSBmYWxzZTsgTF9OT19UT1VDSCA9IGZhbHNlOyBMX0RJU0FCTEVfM0QgPSBmYWxzZTs8L3NjcmlwdD4KICAgIDxzY3JpcHQgc3JjPSJodHRwczovL2Nkbi5qc2RlbGl2ci5uZXQvbnBtL2xlYWZsZXRAMS4yLjAvZGlzdC9sZWFmbGV0LmpzIj48L3NjcmlwdD4KICAgIDxzY3JpcHQgc3JjPSJodHRwczovL2FqYXguZ29vZ2xlYXBpcy5jb20vYWpheC9saWJzL2pxdWVyeS8xLjExLjEvanF1ZXJ5Lm1pbi5qcyI+PC9zY3JpcHQ+CiAgICA8c2NyaXB0IHNyYz0iaHR0cHM6Ly9tYXhjZG4uYm9vdHN0cmFwY2RuLmNvbS9ib290c3RyYXAvMy4yLjAvanMvYm9vdHN0cmFwLm1pbi5qcyI+PC9zY3JpcHQ+CiAgICA8c2NyaXB0IHNyYz0iaHR0cHM6Ly9jZG5qcy5jbG91ZGZsYXJlLmNvbS9hamF4L2xpYnMvTGVhZmxldC5hd2Vzb21lLW1hcmtlcnMvMi4wLjIvbGVhZmxldC5hd2Vzb21lLW1hcmtlcnMuanMiPjwvc2NyaXB0PgogICAgPGxpbmsgcmVsPSJzdHlsZXNoZWV0IiBocmVmPSJodHRwczovL2Nkbi5qc2RlbGl2ci5uZXQvbnBtL2xlYWZsZXRAMS4yLjAvZGlzdC9sZWFmbGV0LmNzcyIvPgogICAgPGxpbmsgcmVsPSJzdHlsZXNoZWV0IiBocmVmPSJodHRwczovL21heGNkbi5ib290c3RyYXBjZG4uY29tL2Jvb3RzdHJhcC8zLjIuMC9jc3MvYm9vdHN0cmFwLm1pbi5jc3MiLz4KICAgIDxsaW5rIHJlbD0ic3R5bGVzaGVldCIgaHJlZj0iaHR0cHM6Ly9tYXhjZG4uYm9vdHN0cmFwY2RuLmNvbS9ib290c3RyYXAvMy4yLjAvY3NzL2Jvb3RzdHJhcC10aGVtZS5taW4uY3NzIi8+CiAgICA8bGluayByZWw9InN0eWxlc2hlZXQiIGhyZWY9Imh0dHBzOi8vbWF4Y2RuLmJvb3RzdHJhcGNkbi5jb20vZm9udC1hd2Vzb21lLzQuNi4zL2Nzcy9mb250LWF3ZXNvbWUubWluLmNzcyIvPgogICAgPGxpbmsgcmVsPSJzdHlsZXNoZWV0IiBocmVmPSJodHRwczovL2NkbmpzLmNsb3VkZmxhcmUuY29tL2FqYXgvbGlicy9MZWFmbGV0LmF3ZXNvbWUtbWFya2Vycy8yLjAuMi9sZWFmbGV0LmF3ZXNvbWUtbWFya2Vycy5jc3MiLz4KICAgIDxsaW5rIHJlbD0ic3R5bGVzaGVldCIgaHJlZj0iaHR0cHM6Ly9yYXdnaXQuY29tL3B5dGhvbi12aXN1YWxpemF0aW9uL2ZvbGl1bS9tYXN0ZXIvZm9saXVtL3RlbXBsYXRlcy9sZWFmbGV0LmF3ZXNvbWUucm90YXRlLmNzcyIvPgogICAgPHN0eWxlPmh0bWwsIGJvZHkge3dpZHRoOiAxMDAlO2hlaWdodDogMTAwJTttYXJnaW46IDA7cGFkZGluZzogMDt9PC9zdHlsZT4KICAgIDxzdHlsZT4jbWFwIHtwb3NpdGlvbjphYnNvbHV0ZTt0b3A6MDtib3R0b206MDtyaWdodDowO2xlZnQ6MDt9PC9zdHlsZT4KICAgIAogICAgICAgICAgICA8c3R5bGU+ICNtYXBfY2YwN2NhOWJmNDk5NGVmYzhkZWViY2ZmYTc5NjQwYWMgewogICAgICAgICAgICAgICAgcG9zaXRpb24gOiByZWxhdGl2ZTsKICAgICAgICAgICAgICAgIHdpZHRoIDogMTAwLjAlOwogICAgICAgICAgICAgICAgaGVpZ2h0OiAxMDAuMCU7CiAgICAgICAgICAgICAgICBsZWZ0OiAwLjAlOwogICAgICAgICAgICAgICAgdG9wOiAwLjAlOwogICAgICAgICAgICAgICAgfQogICAgICAgICAgICA8L3N0eWxlPgogICAgICAgIAo8L2hlYWQ+Cjxib2R5PiAgICAKICAgIAogICAgICAgICAgICA8ZGl2IGNsYXNzPSJmb2xpdW0tbWFwIiBpZD0ibWFwX2NmMDdjYTliZjQ5OTRlZmM4ZGVlYmNmZmE3OTY0MGFjIiA+PC9kaXY+CiAgICAgICAgCjwvYm9keT4KPHNjcmlwdD4gICAgCiAgICAKCiAgICAgICAgICAgIAogICAgICAgICAgICAgICAgdmFyIGJvdW5kcyA9IG51bGw7CiAgICAgICAgICAgIAoKICAgICAgICAgICAgdmFyIG1hcF9jZjA3Y2E5YmY0OTk0ZWZjOGRlZWJjZmZhNzk2NDBhYyA9IEwubWFwKAogICAgICAgICAgICAgICAgICAgICAgICAgICAgICAgICAgJ21hcF9jZjA3Y2E5YmY0OTk0ZWZjOGRlZWJjZmZhNzk2NDBhYycsCiAgICAgICAgICAgICAgICAgICAgICAgICAgICAgICAgICB7Y2VudGVyOiBbNDMuNjUzNDgxNywtNzkuMzgzOTM0N10sCiAgICAgICAgICAgICAgICAgICAgICAgICAgICAgICAgICB6b29tOiAxNSwKICAgICAgICAgICAgICAgICAgICAgICAgICAgICAgICAgIG1heEJvdW5kczogYm91bmRzLAogICAgICAgICAgICAgICAgICAgICAgICAgICAgICAgICAgbGF5ZXJzOiBbXSwKICAgICAgICAgICAgICAgICAgICAgICAgICAgICAgICAgIHdvcmxkQ29weUp1bXA6IGZhbHNlLAogICAgICAgICAgICAgICAgICAgICAgICAgICAgICAgICAgY3JzOiBMLkNSUy5FUFNHMzg1NwogICAgICAgICAgICAgICAgICAgICAgICAgICAgICAgICB9KTsKICAgICAgICAgICAgCiAgICAgICAgCiAgICAKICAgICAgICAgICAgdmFyIHRpbGVfbGF5ZXJfYWFhMjhmZGYzMzZjNDk0ZmJiYTljMjk3MjIxYmMwNDEgPSBMLnRpbGVMYXllcigKICAgICAgICAgICAgICAgICdodHRwczovL3tzfS50aWxlLm9wZW5zdHJlZXRtYXAub3JnL3t6fS97eH0ve3l9LnBuZycsCiAgICAgICAgICAgICAgICB7CiAgImF0dHJpYnV0aW9uIjogbnVsbCwKICAiZGV0ZWN0UmV0aW5hIjogZmFsc2UsCiAgIm1heFpvb20iOiAxOCwKICAibWluWm9vbSI6IDEsCiAgIm5vV3JhcCI6IGZhbHNlLAogICJzdWJkb21haW5zIjogImFiYyIKfQogICAgICAgICAgICAgICAgKS5hZGRUbyhtYXBfY2YwN2NhOWJmNDk5NGVmYzhkZWViY2ZmYTc5NjQwYWMpOwogICAgICAgIAogICAgCiAgICAgICAgICAgIHZhciBjaXJjbGVfbWFya2VyX2JhNTZhZTI0ZDE0NjRjNzg5MzhhZmFiNmZlMWM1NjMzID0gTC5jaXJjbGVNYXJrZXIoCiAgICAgICAgICAgICAgICBbNDMuNjU2NTYyMDkwNDU2OTQsLTc5LjM4MjczNjY0MDA2MjM4XSwKICAgICAgICAgICAgICAgIHsKICAiYnViYmxpbmdNb3VzZUV2ZW50cyI6IHRydWUsCiAgImNvbG9yIjogIiMzMzg4ZmYiLAogICJkYXNoQXJyYXkiOiBudWxsLAogICJkYXNoT2Zmc2V0IjogbnVsbCwKICAiZmlsbCI6IHRydWUsCiAgImZpbGxDb2xvciI6ICJsaWdodGdyZWVuIiwKICAiZmlsbE9wYWNpdHkiOiAwLjYsCiAgImZpbGxSdWxlIjogImV2ZW5vZGQiLAogICJsaW5lQ2FwIjogInJvdW5kIiwKICAibGluZUpvaW4iOiAicm91bmQiLAogICJvcGFjaXR5IjogMS4wLAogICJyYWRpdXMiOiAxMCwKICAic3Ryb2tlIjogdHJ1ZSwKICAid2VpZ2h0IjogMwp9CiAgICAgICAgICAgICAgICApLmFkZFRvKG1hcF9jZjA3Y2E5YmY0OTk0ZWZjOGRlZWJjZmZhNzk2NDBhYyk7CiAgICAgICAgICAgIAogICAgCiAgICAgICAgICAgIHZhciBwb3B1cF80MjVjZjVjM2E5Mjk0NzYzYWRhZWRkMWUyOWE5MDYwMSA9IEwucG9wdXAoe21heFdpZHRoOiAnMzAwJ30pOwoKICAgICAgICAgICAgCiAgICAgICAgICAgICAgICB2YXIgaHRtbF84NzliMjAxMGMzNzI0MWE3YjFjNDNhMmE4YTY3ODBhMyA9ICQoJzxkaXYgaWQ9Imh0bWxfODc5YjIwMTBjMzcyNDFhN2IxYzQzYTJhOGE2NzgwYTMiIHN0eWxlPSJ3aWR0aDogMTAwLjAlOyBoZWlnaHQ6IDEwMC4wJTsiPk01RzwvZGl2PicpWzBdOwogICAgICAgICAgICAgICAgcG9wdXBfNDI1Y2Y1YzNhOTI5NDc2M2FkYWVkZDFlMjlhOTA2MDEuc2V0Q29udGVudChodG1sXzg3OWIyMDEwYzM3MjQxYTdiMWM0M2EyYThhNjc4MGEzKTsKICAgICAgICAgICAgCgogICAgICAgICAgICBjaXJjbGVfbWFya2VyX2JhNTZhZTI0ZDE0NjRjNzg5MzhhZmFiNmZlMWM1NjMzLmJpbmRQb3B1cChwb3B1cF80MjVjZjVjM2E5Mjk0NzYzYWRhZWRkMWUyOWE5MDYwMSk7CgogICAgICAgICAgICAKICAgICAgICAKICAgIAogICAgICAgICAgICB2YXIgY2lyY2xlX21hcmtlcl9lNTY0Y2VmZDRlM2U0OGZiYTQwMGRhMDY3YzNhYmJhNyA9IEwuY2lyY2xlTWFya2VyKAogICAgICAgICAgICAgICAgWzQzLjY1ODkyMDI5MjAyODcyNSwtNzkuMzgyODkxMDUzODE3ODRdLAogICAgICAgICAgICAgICAgewogICJidWJibGluZ01vdXNlRXZlbnRzIjogdHJ1ZSwKICAiY29sb3IiOiAiIzMzODhmZiIsCiAgImRhc2hBcnJheSI6IG51bGwsCiAgImRhc2hPZmZzZXQiOiBudWxsLAogICJmaWxsIjogdHJ1ZSwKICAiZmlsbENvbG9yIjogInJlZCIsCiAgImZpbGxPcGFjaXR5IjogMC42LAogICJmaWxsUnVsZSI6ICJldmVub2RkIiwKICAibGluZUNhcCI6ICJyb3VuZCIsCiAgImxpbmVKb2luIjogInJvdW5kIiwKICAib3BhY2l0eSI6IDEuMCwKICAicmFkaXVzIjogMTAsCiAgInN0cm9rZSI6IHRydWUsCiAgIndlaWdodCI6IDMKfQogICAgICAgICAgICAgICAgKS5hZGRUbyhtYXBfY2YwN2NhOWJmNDk5NGVmYzhkZWViY2ZmYTc5NjQwYWMpOwogICAgICAgICAgICAKICAgIAogICAgICAgICAgICB2YXIgcG9wdXBfMDk3NjUyZjc3OTkxNGEwZTg2Mjg4YzY1NDU4ZmZiNmEgPSBMLnBvcHVwKHttYXhXaWR0aDogJzMwMCd9KTsKCiAgICAgICAgICAgIAogICAgICAgICAgICAgICAgdmFyIGh0bWxfZDMxYjZjZjgzZTZlNGFhY2I4NjNiYTBmMTUyOWFiZTAgPSAkKCc8ZGl2IGlkPSJodG1sX2QzMWI2Y2Y4M2U2ZTRhYWNiODYzYmEwZjE1MjlhYmUwIiBzdHlsZT0id2lkdGg6IDEwMC4wJTsgaGVpZ2h0OiAxMDAuMCU7Ij5NNUI8L2Rpdj4nKVswXTsKICAgICAgICAgICAgICAgIHBvcHVwXzA5NzY1MmY3Nzk5MTRhMGU4NjI4OGM2NTQ1OGZmYjZhLnNldENvbnRlbnQoaHRtbF9kMzFiNmNmODNlNmU0YWFjYjg2M2JhMGYxNTI5YWJlMCk7CiAgICAgICAgICAgIAoKICAgICAgICAgICAgY2lyY2xlX21hcmtlcl9lNTY0Y2VmZDRlM2U0OGZiYTQwMGRhMDY3YzNhYmJhNy5iaW5kUG9wdXAocG9wdXBfMDk3NjUyZjc3OTkxNGEwZTg2Mjg4YzY1NDU4ZmZiNmEpOwoKICAgICAgICAgICAgCiAgICAgICAgCiAgICAKICAgICAgICAgICAgdmFyIGNpcmNsZV9tYXJrZXJfODJjNTExNTNhM2Q5NDAwZDhhNTQ5ZmIyYjg4YTA5MGMgPSBMLmNpcmNsZU1hcmtlcigKICAgICAgICAgICAgICAgIFs0My42NDc5NDU2NjI5ODAzMDUsLTc5LjM4MzcwNTgyNzcxNTNdLAogICAgICAgICAgICAgICAgewogICJidWJibGluZ01vdXNlRXZlbnRzIjogdHJ1ZSwKICAiY29sb3IiOiAiIzMzODhmZiIsCiAgImRhc2hBcnJheSI6IG51bGwsCiAgImRhc2hPZmZzZXQiOiBudWxsLAogICJmaWxsIjogdHJ1ZSwKICAiZmlsbENvbG9yIjogImJsdWUiLAogICJmaWxsT3BhY2l0eSI6IDAuNiwKICAiZmlsbFJ1bGUiOiAiZXZlbm9kZCIsCiAgImxpbmVDYXAiOiAicm91bmQiLAogICJsaW5lSm9pbiI6ICJyb3VuZCIsCiAgIm9wYWNpdHkiOiAxLjAsCiAgInJhZGl1cyI6IDEwLAogICJzdHJva2UiOiB0cnVlLAogICJ3ZWlnaHQiOiAzCn0KICAgICAgICAgICAgICAgICkuYWRkVG8obWFwX2NmMDdjYTliZjQ5OTRlZmM4ZGVlYmNmZmE3OTY0MGFjKTsKICAgICAgICAgICAgCiAgICAKICAgICAgICAgICAgdmFyIHBvcHVwXzFjMDY4ZWM3YWY2MDRkNGM4M2MyNjNiMzI5MDQ3MWY5ID0gTC5wb3B1cCh7bWF4V2lkdGg6ICczMDAnfSk7CgogICAgICAgICAgICAKICAgICAgICAgICAgICAgIHZhciBodG1sXzc3NjI1N2EzYTU1OTRlMGU4YjIzNWM5M2NlZWFmMzcyID0gJCgnPGRpdiBpZD0iaHRtbF83NzYyNTdhM2E1NTk0ZTBlOGIyMzVjOTNjZWVhZjM3MiIgc3R5bGU9IndpZHRoOiAxMDAuMCU7IGhlaWdodDogMTAwLjAlOyI+TTVIPC9kaXY+JylbMF07CiAgICAgICAgICAgICAgICBwb3B1cF8xYzA2OGVjN2FmNjA0ZDRjODNjMjYzYjMyOTA0NzFmOS5zZXRDb250ZW50KGh0bWxfNzc2MjU3YTNhNTU5NGUwZThiMjM1YzkzY2VlYWYzNzIpOwogICAgICAgICAgICAKCiAgICAgICAgICAgIGNpcmNsZV9tYXJrZXJfODJjNTExNTNhM2Q5NDAwZDhhNTQ5ZmIyYjg4YTA5MGMuYmluZFBvcHVwKHBvcHVwXzFjMDY4ZWM3YWY2MDRkNGM4M2MyNjNiMzI5MDQ3MWY5KTsKCiAgICAgICAgICAgIAogICAgICAgIAogICAgCiAgICAgICAgICAgIHZhciBjaXJjbGVfbWFya2VyXzlhZTMwMmQ1M2EyMDQ2ZDBiNTMxMmM2NzhhMWJhNGY0ID0gTC5jaXJjbGVNYXJrZXIoCiAgICAgICAgICAgICAgICBbNDMuNjU0ODM3LC03OS4zODA3NDJdLAogICAgICAgICAgICAgICAgewogICJidWJibGluZ01vdXNlRXZlbnRzIjogdHJ1ZSwKICAiY29sb3IiOiAiIzMzODhmZiIsCiAgImRhc2hBcnJheSI6IG51bGwsCiAgImRhc2hPZmZzZXQiOiBudWxsLAogICJmaWxsIjogdHJ1ZSwKICAiZmlsbENvbG9yIjogInJlZCIsCiAgImZpbGxPcGFjaXR5IjogMC42LAogICJmaWxsUnVsZSI6ICJldmVub2RkIiwKICAibGluZUNhcCI6ICJyb3VuZCIsCiAgImxpbmVKb2luIjogInJvdW5kIiwKICAib3BhY2l0eSI6IDEuMCwKICAicmFkaXVzIjogMTAsCiAgInN0cm9rZSI6IHRydWUsCiAgIndlaWdodCI6IDMKfQogICAgICAgICAgICAgICAgKS5hZGRUbyhtYXBfY2YwN2NhOWJmNDk5NGVmYzhkZWViY2ZmYTc5NjQwYWMpOwogICAgICAgICAgICAKICAgIAogICAgICAgICAgICB2YXIgcG9wdXBfMzAzNjYwNDIzYWY4NDVmM2FiNTE1MDhiYWRiNmMzMTkgPSBMLnBvcHVwKHttYXhXaWR0aDogJzMwMCd9KTsKCiAgICAgICAgICAgIAogICAgICAgICAgICAgICAgdmFyIGh0bWxfMWI0NjRiMjA2OTJkNGI2YzgzYWU3MmFmNWJkN2RhNmEgPSAkKCc8ZGl2IGlkPSJodG1sXzFiNDY0YjIwNjkyZDRiNmM4M2FlNzJhZjViZDdkYTZhIiBzdHlsZT0id2lkdGg6IDEwMC4wJTsgaGVpZ2h0OiAxMDAuMCU7Ij5NNUI8L2Rpdj4nKVswXTsKICAgICAgICAgICAgICAgIHBvcHVwXzMwMzY2MDQyM2FmODQ1ZjNhYjUxNTA4YmFkYjZjMzE5LnNldENvbnRlbnQoaHRtbF8xYjQ2NGIyMDY5MmQ0YjZjODNhZTcyYWY1YmQ3ZGE2YSk7CiAgICAgICAgICAgIAoKICAgICAgICAgICAgY2lyY2xlX21hcmtlcl85YWUzMDJkNTNhMjA0NmQwYjUzMTJjNjc4YTFiYTRmNC5iaW5kUG9wdXAocG9wdXBfMzAzNjYwNDIzYWY4NDVmM2FiNTE1MDhiYWRiNmMzMTkpOwoKICAgICAgICAgICAgCiAgICAgICAgCiAgICAKICAgICAgICAgICAgdmFyIGNpcmNsZV9tYXJrZXJfNDZmMjUyMzgxMTgwNDE2ZGJlMGY3Mjg1MDA3ZjQ0NGEgPSBMLmNpcmNsZU1hcmtlcigKICAgICAgICAgICAgICAgIFs0My42NDcyMjMsLTc5LjM3OTM3MzhdLAogICAgICAgICAgICAgICAgewogICJidWJibGluZ01vdXNlRXZlbnRzIjogdHJ1ZSwKICAiY29sb3IiOiAiIzMzODhmZiIsCiAgImRhc2hBcnJheSI6IG51bGwsCiAgImRhc2hPZmZzZXQiOiBudWxsLAogICJmaWxsIjogdHJ1ZSwKICAiZmlsbENvbG9yIjogInB1cnBsZSIsCiAgImZpbGxPcGFjaXR5IjogMC42LAogICJmaWxsUnVsZSI6ICJldmVub2RkIiwKICAibGluZUNhcCI6ICJyb3VuZCIsCiAgImxpbmVKb2luIjogInJvdW5kIiwKICAib3BhY2l0eSI6IDEuMCwKICAicmFkaXVzIjogMTAsCiAgInN0cm9rZSI6IHRydWUsCiAgIndlaWdodCI6IDMKfQogICAgICAgICAgICAgICAgKS5hZGRUbyhtYXBfY2YwN2NhOWJmNDk5NGVmYzhkZWViY2ZmYTc5NjQwYWMpOwogICAgICAgICAgICAKICAgIAogICAgICAgICAgICB2YXIgcG9wdXBfZGRiNjYwMTdhNjhjNGIzZTg0M2RiMTliODYyODU0NWUgPSBMLnBvcHVwKHttYXhXaWR0aDogJzMwMCd9KTsKCiAgICAgICAgICAgIAogICAgICAgICAgICAgICAgdmFyIGh0bWxfMDMzNTQ3NWRkNDg1NGU4NWI1NzEzMzlkZWUwN2ZkMzEgPSAkKCc8ZGl2IGlkPSJodG1sXzAzMzU0NzVkZDQ4NTRlODViNTcxMzM5ZGVlMDdmZDMxIiBzdHlsZT0id2lkdGg6IDEwMC4wJTsgaGVpZ2h0OiAxMDAuMCU7Ij5NNUo8L2Rpdj4nKVswXTsKICAgICAgICAgICAgICAgIHBvcHVwX2RkYjY2MDE3YTY4YzRiM2U4NDNkYjE5Yjg2Mjg1NDVlLnNldENvbnRlbnQoaHRtbF8wMzM1NDc1ZGQ0ODU0ZTg1YjU3MTMzOWRlZTA3ZmQzMSk7CiAgICAgICAgICAgIAoKICAgICAgICAgICAgY2lyY2xlX21hcmtlcl80NmYyNTIzODExODA0MTZkYmUwZjcyODUwMDdmNDQ0YS5iaW5kUG9wdXAocG9wdXBfZGRiNjYwMTdhNjhjNGIzZTg0M2RiMTliODYyODU0NWUpOwoKICAgICAgICAgICAgCiAgICAgICAgCiAgICAKICAgICAgICAgICAgdmFyIGNpcmNsZV9tYXJrZXJfZmVhNzliMWVhN2YzNGI4NzhkMTUxZmU0MmFkZTVlYTMgPSBMLmNpcmNsZU1hcmtlcigKICAgICAgICAgICAgICAgIFs0My42NTExOTc0NTc1MDgzNywtNzkuMzgyOTc2MTQ1NDg2ODVdLAogICAgICAgICAgICAgICAgewogICJidWJibGluZ01vdXNlRXZlbnRzIjogdHJ1ZSwKICAiY29sb3IiOiAiIzMzODhmZiIsCiAgImRhc2hBcnJheSI6IG51bGwsCiAgImRhc2hPZmZzZXQiOiBudWxsLAogICJmaWxsIjogdHJ1ZSwKICAiZmlsbENvbG9yIjogImJsdWUiLAogICJmaWxsT3BhY2l0eSI6IDAuNiwKICAiZmlsbFJ1bGUiOiAiZXZlbm9kZCIsCiAgImxpbmVDYXAiOiAicm91bmQiLAogICJsaW5lSm9pbiI6ICJyb3VuZCIsCiAgIm9wYWNpdHkiOiAxLjAsCiAgInJhZGl1cyI6IDEwLAogICJzdHJva2UiOiB0cnVlLAogICJ3ZWlnaHQiOiAzCn0KICAgICAgICAgICAgICAgICkuYWRkVG8obWFwX2NmMDdjYTliZjQ5OTRlZmM4ZGVlYmNmZmE3OTY0MGFjKTsKICAgICAgICAgICAgCiAgICAKICAgICAgICAgICAgdmFyIHBvcHVwXzRkNjQ5MTk0YzhhMDRjYjc4MTgzZjY2NTE1NDY2MmM2ID0gTC5wb3B1cCh7bWF4V2lkdGg6ICczMDAnfSk7CgogICAgICAgICAgICAKICAgICAgICAgICAgICAgIHZhciBodG1sX2I3MzE1MDM3MTNmYTRkZGQ4YzU2YzhhYTRiYWFjZTk4ID0gJCgnPGRpdiBpZD0iaHRtbF9iNzMxNTAzNzEzZmE0ZGRkOGM1NmM4YWE0YmFhY2U5OCIgc3R5bGU9IndpZHRoOiAxMDAuMCU7IGhlaWdodDogMTAwLjAlOyI+TTVIPC9kaXY+JylbMF07CiAgICAgICAgICAgICAgICBwb3B1cF80ZDY0OTE5NGM4YTA0Y2I3ODE4M2Y2NjUxNTQ2NjJjNi5zZXRDb250ZW50KGh0bWxfYjczMTUwMzcxM2ZhNGRkZDhjNTZjOGFhNGJhYWNlOTgpOwogICAgICAgICAgICAKCiAgICAgICAgICAgIGNpcmNsZV9tYXJrZXJfZmVhNzliMWVhN2YzNGI4NzhkMTUxZmU0MmFkZTVlYTMuYmluZFBvcHVwKHBvcHVwXzRkNjQ5MTk0YzhhMDRjYjc4MTgzZjY2NTE1NDY2MmM2KTsKCiAgICAgICAgICAgIAogICAgICAgIAogICAgCiAgICAgICAgICAgIHZhciBjaXJjbGVfbWFya2VyX2FkYmZiYmRiZWFjMTQ3YjNiNDhjOWYxMGVhYWVmNDhjID0gTC5jaXJjbGVNYXJrZXIoCiAgICAgICAgICAgICAgICBbNDMuNjUxMTg3MTMzMzAxNDgsLTc5LjM4MTEzOTI1NjE1MjM3XSwKICAgICAgICAgICAgICAgIHsKICAiYnViYmxpbmdNb3VzZUV2ZW50cyI6IHRydWUsCiAgImNvbG9yIjogIiMzMzg4ZmYiLAogICJkYXNoQXJyYXkiOiBudWxsLAogICJkYXNoT2Zmc2V0IjogbnVsbCwKICAiZmlsbCI6IHRydWUsCiAgImZpbGxDb2xvciI6ICJibHVlIiwKICAiZmlsbE9wYWNpdHkiOiAwLjYsCiAgImZpbGxSdWxlIjogImV2ZW5vZGQiLAogICJsaW5lQ2FwIjogInJvdW5kIiwKICAibGluZUpvaW4iOiAicm91bmQiLAogICJvcGFjaXR5IjogMS4wLAogICJyYWRpdXMiOiAxMCwKICAic3Ryb2tlIjogdHJ1ZSwKICAid2VpZ2h0IjogMwp9CiAgICAgICAgICAgICAgICApLmFkZFRvKG1hcF9jZjA3Y2E5YmY0OTk0ZWZjOGRlZWJjZmZhNzk2NDBhYyk7CiAgICAgICAgICAgIAogICAgCiAgICAgICAgICAgIHZhciBwb3B1cF81ZmIzMTA2OTE5MGM0MDYzYjNjMGIxZTYyZTA5MzlmMCA9IEwucG9wdXAoe21heFdpZHRoOiAnMzAwJ30pOwoKICAgICAgICAgICAgCiAgICAgICAgICAgICAgICB2YXIgaHRtbF9mYzRjZTUwNzFjODc0ODY1OTI4OGRjYjhlZmM2ZjExYiA9ICQoJzxkaXYgaWQ9Imh0bWxfZmM0Y2U1MDcxYzg3NDg2NTkyODhkY2I4ZWZjNmYxMWIiIHN0eWxlPSJ3aWR0aDogMTAwLjAlOyBoZWlnaHQ6IDEwMC4wJTsiPk01SDwvZGl2PicpWzBdOwogICAgICAgICAgICAgICAgcG9wdXBfNWZiMzEwNjkxOTBjNDA2M2IzYzBiMWU2MmUwOTM5ZjAuc2V0Q29udGVudChodG1sX2ZjNGNlNTA3MWM4NzQ4NjU5Mjg4ZGNiOGVmYzZmMTFiKTsKICAgICAgICAgICAgCgogICAgICAgICAgICBjaXJjbGVfbWFya2VyX2FkYmZiYmRiZWFjMTQ3YjNiNDhjOWYxMGVhYWVmNDhjLmJpbmRQb3B1cChwb3B1cF81ZmIzMTA2OTE5MGM0MDYzYjNjMGIxZTYyZTA5MzlmMCk7CgogICAgICAgICAgICAKICAgICAgICAKICAgIAogICAgICAgICAgICB2YXIgY2lyY2xlX21hcmtlcl9kMTM5NGI3ZmRiYjU0NzZhYWY2ZmQxNGUxN2IwZDQ2OCA9IEwuY2lyY2xlTWFya2VyKAogICAgICAgICAgICAgICAgWzQzLjY0OTc5NjY5NjA0ODE3LC03OS4zODU4MDczMzkzOTI3XSwKICAgICAgICAgICAgICAgIHsKICAiYnViYmxpbmdNb3VzZUV2ZW50cyI6IHRydWUsCiAgImNvbG9yIjogIiMzMzg4ZmYiLAogICJkYXNoQXJyYXkiOiBudWxsLAogICJkYXNoT2Zmc2V0IjogbnVsbCwKICAiZmlsbCI6IHRydWUsCiAgImZpbGxDb2xvciI6ICJibHVlIiwKICAiZmlsbE9wYWNpdHkiOiAwLjYsCiAgImZpbGxSdWxlIjogImV2ZW5vZGQiLAogICJsaW5lQ2FwIjogInJvdW5kIiwKICAibGluZUpvaW4iOiAicm91bmQiLAogICJvcGFjaXR5IjogMS4wLAogICJyYWRpdXMiOiAxMCwKICAic3Ryb2tlIjogdHJ1ZSwKICAid2VpZ2h0IjogMwp9CiAgICAgICAgICAgICAgICApLmFkZFRvKG1hcF9jZjA3Y2E5YmY0OTk0ZWZjOGRlZWJjZmZhNzk2NDBhYyk7CiAgICAgICAgICAgIAogICAgCiAgICAgICAgICAgIHZhciBwb3B1cF8wNTdlYmU5ZmU3YzM0NTJhYjE1Mzk5MThkYWFiNGI1NiA9IEwucG9wdXAoe21heFdpZHRoOiAnMzAwJ30pOwoKICAgICAgICAgICAgCiAgICAgICAgICAgICAgICB2YXIgaHRtbF9iOGJjNTYzN2UxMzA0MWIxYWUxMjIxNWJlZGIxM2IzYyA9ICQoJzxkaXYgaWQ9Imh0bWxfYjhiYzU2MzdlMTMwNDFiMWFlMTIyMTViZWRiMTNiM2MiIHN0eWxlPSJ3aWR0aDogMTAwLjAlOyBoZWlnaHQ6IDEwMC4wJTsiPk01SDwvZGl2PicpWzBdOwogICAgICAgICAgICAgICAgcG9wdXBfMDU3ZWJlOWZlN2MzNDUyYWIxNTM5OTE4ZGFhYjRiNTYuc2V0Q29udGVudChodG1sX2I4YmM1NjM3ZTEzMDQxYjFhZTEyMjE1YmVkYjEzYjNjKTsKICAgICAgICAgICAgCgogICAgICAgICAgICBjaXJjbGVfbWFya2VyX2QxMzk0YjdmZGJiNTQ3NmFhZjZmZDE0ZTE3YjBkNDY4LmJpbmRQb3B1cChwb3B1cF8wNTdlYmU5ZmU3YzM0NTJhYjE1Mzk5MThkYWFiNGI1Nik7CgogICAgICAgICAgICAKICAgICAgICAKICAgIAogICAgICAgICAgICB2YXIgY2lyY2xlX21hcmtlcl84OWU0ZTA2NTEzY2Y0Y2I1OTlmYTIzNGM4NGFiZWIwZiA9IEwuY2lyY2xlTWFya2VyKAogICAgICAgICAgICAgICAgWzQzLjY0OTk4NjU5MzE4NTY5LC03OS4zODQxMDMzNjY2NDUzOF0sCiAgICAgICAgICAgICAgICB7CiAgImJ1YmJsaW5nTW91c2VFdmVudHMiOiB0cnVlLAogICJjb2xvciI6ICIjMzM4OGZmIiwKICAiZGFzaEFycmF5IjogbnVsbCwKICAiZGFzaE9mZnNldCI6IG51bGwsCiAgImZpbGwiOiB0cnVlLAogICJmaWxsQ29sb3IiOiAiYmx1ZSIsCiAgImZpbGxPcGFjaXR5IjogMC42LAogICJmaWxsUnVsZSI6ICJldmVub2RkIiwKICAibGluZUNhcCI6ICJyb3VuZCIsCiAgImxpbmVKb2luIjogInJvdW5kIiwKICAib3BhY2l0eSI6IDEuMCwKICAicmFkaXVzIjogMTAsCiAgInN0cm9rZSI6IHRydWUsCiAgIndlaWdodCI6IDMKfQogICAgICAgICAgICAgICAgKS5hZGRUbyhtYXBfY2YwN2NhOWJmNDk5NGVmYzhkZWViY2ZmYTc5NjQwYWMpOwogICAgICAgICAgICAKICAgIAogICAgICAgICAgICB2YXIgcG9wdXBfYTRmY2QyN2JhNGQ1NDZlNWFhYWIwY2ZlNWU0Yjk1YjUgPSBMLnBvcHVwKHttYXhXaWR0aDogJzMwMCd9KTsKCiAgICAgICAgICAgIAogICAgICAgICAgICAgICAgdmFyIGh0bWxfMTY4N2M5ZDQ3YzlkNDdhMGE4NjhjMjUyOTBiN2YwOTEgPSAkKCc8ZGl2IGlkPSJodG1sXzE2ODdjOWQ0N2M5ZDQ3YTBhODY4YzI1MjkwYjdmMDkxIiBzdHlsZT0id2lkdGg6IDEwMC4wJTsgaGVpZ2h0OiAxMDAuMCU7Ij5NNUg8L2Rpdj4nKVswXTsKICAgICAgICAgICAgICAgIHBvcHVwX2E0ZmNkMjdiYTRkNTQ2ZTVhYWFiMGNmZTVlNGI5NWI1LnNldENvbnRlbnQoaHRtbF8xNjg3YzlkNDdjOWQ0N2EwYTg2OGMyNTI5MGI3ZjA5MSk7CiAgICAgICAgICAgIAoKICAgICAgICAgICAgY2lyY2xlX21hcmtlcl84OWU0ZTA2NTEzY2Y0Y2I1OTlmYTIzNGM4NGFiZWIwZi5iaW5kUG9wdXAocG9wdXBfYTRmY2QyN2JhNGQ1NDZlNWFhYWIwY2ZlNWU0Yjk1YjUpOwoKICAgICAgICAgICAgCiAgICAgICAgCiAgICAKICAgICAgICAgICAgdmFyIGNpcmNsZV9tYXJrZXJfMjcxNTViZDM5Y2JlNGMyNWI2NzBjM2Q0MTQwYzc0YWUgPSBMLmNpcmNsZU1hcmtlcigKICAgICAgICAgICAgICAgIFs0My42NTQ0OTM0MzEyNjk1NjQsLTc5LjM3ODk5OTYwMDQxMDVdLAogICAgICAgICAgICAgICAgewogICJidWJibGluZ01vdXNlRXZlbnRzIjogdHJ1ZSwKICAiY29sb3IiOiAiIzMzODhmZiIsCiAgImRhc2hBcnJheSI6IG51bGwsCiAgImRhc2hPZmZzZXQiOiBudWxsLAogICJmaWxsIjogdHJ1ZSwKICAiZmlsbENvbG9yIjogInJlZCIsCiAgImZpbGxPcGFjaXR5IjogMC42LAogICJmaWxsUnVsZSI6ICJldmVub2RkIiwKICAibGluZUNhcCI6ICJyb3VuZCIsCiAgImxpbmVKb2luIjogInJvdW5kIiwKICAib3BhY2l0eSI6IDEuMCwKICAicmFkaXVzIjogMTAsCiAgInN0cm9rZSI6IHRydWUsCiAgIndlaWdodCI6IDMKfQogICAgICAgICAgICAgICAgKS5hZGRUbyhtYXBfY2YwN2NhOWJmNDk5NGVmYzhkZWViY2ZmYTc5NjQwYWMpOwogICAgICAgICAgICAKICAgIAogICAgICAgICAgICB2YXIgcG9wdXBfOWVlNDdkZDBjZTYwNDhlODk3Mzg1MmFkMDZlMjE5YTAgPSBMLnBvcHVwKHttYXhXaWR0aDogJzMwMCd9KTsKCiAgICAgICAgICAgIAogICAgICAgICAgICAgICAgdmFyIGh0bWxfZjRhYjA0MWM3ZDNiNDU4N2JkNjI2ZGIyYzQ0ZjA4NjYgPSAkKCc8ZGl2IGlkPSJodG1sX2Y0YWIwNDFjN2QzYjQ1ODdiZDYyNmRiMmM0NGYwODY2IiBzdHlsZT0id2lkdGg6IDEwMC4wJTsgaGVpZ2h0OiAxMDAuMCU7Ij5NNUI8L2Rpdj4nKVswXTsKICAgICAgICAgICAgICAgIHBvcHVwXzllZTQ3ZGQwY2U2MDQ4ZTg5NzM4NTJhZDA2ZTIxOWEwLnNldENvbnRlbnQoaHRtbF9mNGFiMDQxYzdkM2I0NTg3YmQ2MjZkYjJjNDRmMDg2Nik7CiAgICAgICAgICAgIAoKICAgICAgICAgICAgY2lyY2xlX21hcmtlcl8yNzE1NWJkMzljYmU0YzI1YjY3MGMzZDQxNDBjNzRhZS5iaW5kUG9wdXAocG9wdXBfOWVlNDdkZDBjZTYwNDhlODk3Mzg1MmFkMDZlMjE5YTApOwoKICAgICAgICAgICAgCiAgICAgICAgCiAgICAKICAgICAgICAgICAgdmFyIGNpcmNsZV9tYXJrZXJfYWVmYTE1YzZkNTA3NGZhNmFiOWMzZWZjNGQyMWQ4ZjggPSBMLmNpcmNsZU1hcmtlcigKICAgICAgICAgICAgICAgIFs0My42NDk5NjQ5NjkwNTAzNSwtNzkuMzc1MDc5NDk0MDkyMjNdLAogICAgICAgICAgICAgICAgewogICJidWJibGluZ01vdXNlRXZlbnRzIjogdHJ1ZSwKICAiY29sb3IiOiAiIzMzODhmZiIsCiAgImRhc2hBcnJheSI6IG51bGwsCiAgImRhc2hPZmZzZXQiOiBudWxsLAogICJmaWxsIjogdHJ1ZSwKICAiZmlsbENvbG9yIjogIm9yYW5nZSIsCiAgImZpbGxPcGFjaXR5IjogMC42LAogICJmaWxsUnVsZSI6ICJldmVub2RkIiwKICAibGluZUNhcCI6ICJyb3VuZCIsCiAgImxpbmVKb2luIjogInJvdW5kIiwKICAib3BhY2l0eSI6IDEuMCwKICAicmFkaXVzIjogMTAsCiAgInN0cm9rZSI6IHRydWUsCiAgIndlaWdodCI6IDMKfQogICAgICAgICAgICAgICAgKS5hZGRUbyhtYXBfY2YwN2NhOWJmNDk5NGVmYzhkZWViY2ZmYTc5NjQwYWMpOwogICAgICAgICAgICAKICAgIAogICAgICAgICAgICB2YXIgcG9wdXBfN2QwMjY5YzljODVhNDRhYTkwZTZiNzYwMDg3MTNkOTQgPSBMLnBvcHVwKHttYXhXaWR0aDogJzMwMCd9KTsKCiAgICAgICAgICAgIAogICAgICAgICAgICAgICAgdmFyIGh0bWxfNjc4M2M0NGQwMjE1NGYzNDgxOTNmNmRhZDljMTFlYTkgPSAkKCc8ZGl2IGlkPSJodG1sXzY3ODNjNDRkMDIxNTRmMzQ4MTkzZjZkYWQ5YzExZWE5IiBzdHlsZT0id2lkdGg6IDEwMC4wJTsgaGVpZ2h0OiAxMDAuMCU7Ij5NNUM8L2Rpdj4nKVswXTsKICAgICAgICAgICAgICAgIHBvcHVwXzdkMDI2OWM5Yzg1YTQ0YWE5MGU2Yjc2MDA4NzEzZDk0LnNldENvbnRlbnQoaHRtbF82NzgzYzQ0ZDAyMTU0ZjM0ODE5M2Y2ZGFkOWMxMWVhOSk7CiAgICAgICAgICAgIAoKICAgICAgICAgICAgY2lyY2xlX21hcmtlcl9hZWZhMTVjNmQ1MDc0ZmE2YWI5YzNlZmM0ZDIxZDhmOC5iaW5kUG9wdXAocG9wdXBfN2QwMjY5YzljODVhNDRhYTkwZTZiNzYwMDg3MTNkOTQpOwoKICAgICAgICAgICAgCiAgICAgICAgCiAgICAKICAgICAgICAgICAgdmFyIGNpcmNsZV9tYXJrZXJfYTkxZTFlMDIzZTljNDgzZDg2MTY3OGU4ZTc0ODE1MzUgPSBMLmNpcmNsZU1hcmtlcigKICAgICAgICAgICAgICAgIFs0My42NTA1NjM4MTAyNjA2NiwtNzkuMzk3MDE4MTA2MDA4MjZdLAogICAgICAgICAgICAgICAgewogICJidWJibGluZ01vdXNlRXZlbnRzIjogdHJ1ZSwKICAiY29sb3IiOiAiIzMzODhmZiIsCiAgImRhc2hBcnJheSI6IG51bGwsCiAgImRhc2hPZmZzZXQiOiBudWxsLAogICJmaWxsIjogdHJ1ZSwKICAiZmlsbENvbG9yIjogImJlaWdlIiwKICAiZmlsbE9wYWNpdHkiOiAwLjYsCiAgImZpbGxSdWxlIjogImV2ZW5vZGQiLAogICJsaW5lQ2FwIjogInJvdW5kIiwKICAibGluZUpvaW4iOiAicm91bmQiLAogICJvcGFjaXR5IjogMS4wLAogICJyYWRpdXMiOiAxMCwKICAic3Ryb2tlIjogdHJ1ZSwKICAid2VpZ2h0IjogMwp9CiAgICAgICAgICAgICAgICApLmFkZFRvKG1hcF9jZjA3Y2E5YmY0OTk0ZWZjOGRlZWJjZmZhNzk2NDBhYyk7CiAgICAgICAgICAgIAogICAgCiAgICAgICAgICAgIHZhciBwb3B1cF8yODUwMWMzMjI1MDM0OTE4OGE2ODNiZGUyZDZjNjdhOSA9IEwucG9wdXAoe21heFdpZHRoOiAnMzAwJ30pOwoKICAgICAgICAgICAgCiAgICAgICAgICAgICAgICB2YXIgaHRtbF9hYzcwNDIyNThkNWU0YWM1Yjg5NGUyNDEzNTYxMWVmYiA9ICQoJzxkaXYgaWQ9Imh0bWxfYWM3MDQyMjU4ZDVlNGFjNWI4OTRlMjQxMzU2MTFlZmIiIHN0eWxlPSJ3aWR0aDogMTAwLjAlOyBoZWlnaHQ6IDEwMC4wJTsiPk01VDwvZGl2PicpWzBdOwogICAgICAgICAgICAgICAgcG9wdXBfMjg1MDFjMzIyNTAzNDkxODhhNjgzYmRlMmQ2YzY3YTkuc2V0Q29udGVudChodG1sX2FjNzA0MjI1OGQ1ZTRhYzViODk0ZTI0MTM1NjExZWZiKTsKICAgICAgICAgICAgCgogICAgICAgICAgICBjaXJjbGVfbWFya2VyX2E5MWUxZTAyM2U5YzQ4M2Q4NjE2NzhlOGU3NDgxNTM1LmJpbmRQb3B1cChwb3B1cF8yODUwMWMzMjI1MDM0OTE4OGE2ODNiZGUyZDZjNjdhOSk7CgogICAgICAgICAgICAKICAgICAgICAKICAgIAogICAgICAgICAgICB2YXIgY2lyY2xlX21hcmtlcl84NmExZmVkYzdkYTk0MWQ1YWMwMTJkMzIxN2Y5ODQwMCA9IEwuY2lyY2xlTWFya2VyKAogICAgICAgICAgICAgICAgWzQzLjY0Nzg4MTM3MDE0MDI4LC03OS4zODQzMzE1MjgzNjgyOV0sCiAgICAgICAgICAgICAgICB7CiAgImJ1YmJsaW5nTW91c2VFdmVudHMiOiB0cnVlLAogICJjb2xvciI6ICIjMzM4OGZmIiwKICAiZGFzaEFycmF5IjogbnVsbCwKICAiZGFzaE9mZnNldCI6IG51bGwsCiAgImZpbGwiOiB0cnVlLAogICJmaWxsQ29sb3IiOiAiYmx1ZSIsCiAgImZpbGxPcGFjaXR5IjogMC42LAogICJmaWxsUnVsZSI6ICJldmVub2RkIiwKICAibGluZUNhcCI6ICJyb3VuZCIsCiAgImxpbmVKb2luIjogInJvdW5kIiwKICAib3BhY2l0eSI6IDEuMCwKICAicmFkaXVzIjogMTAsCiAgInN0cm9rZSI6IHRydWUsCiAgIndlaWdodCI6IDMKfQogICAgICAgICAgICAgICAgKS5hZGRUbyhtYXBfY2YwN2NhOWJmNDk5NGVmYzhkZWViY2ZmYTc5NjQwYWMpOwogICAgICAgICAgICAKICAgIAogICAgICAgICAgICB2YXIgcG9wdXBfYThmNGQ0OTY3Yjg2NDBlY2FkYzM2NWIxYWFmMWNhZGIgPSBMLnBvcHVwKHttYXhXaWR0aDogJzMwMCd9KTsKCiAgICAgICAgICAgIAogICAgICAgICAgICAgICAgdmFyIGh0bWxfZjFhNGU0ZjkzOGYxNDllOGE0NmNkM2VkM2NkZjYxMWUgPSAkKCc8ZGl2IGlkPSJodG1sX2YxYTRlNGY5MzhmMTQ5ZThhNDZjZDNlZDNjZGY2MTFlIiBzdHlsZT0id2lkdGg6IDEwMC4wJTsgaGVpZ2h0OiAxMDAuMCU7Ij5NNUg8L2Rpdj4nKVswXTsKICAgICAgICAgICAgICAgIHBvcHVwX2E4ZjRkNDk2N2I4NjQwZWNhZGMzNjViMWFhZjFjYWRiLnNldENvbnRlbnQoaHRtbF9mMWE0ZTRmOTM4ZjE0OWU4YTQ2Y2QzZWQzY2RmNjExZSk7CiAgICAgICAgICAgIAoKICAgICAgICAgICAgY2lyY2xlX21hcmtlcl84NmExZmVkYzdkYTk0MWQ1YWMwMTJkMzIxN2Y5ODQwMC5iaW5kUG9wdXAocG9wdXBfYThmNGQ0OTY3Yjg2NDBlY2FkYzM2NWIxYWFmMWNhZGIpOwoKICAgICAgICAgICAgCiAgICAgICAgCiAgICAKICAgICAgICAgICAgdmFyIGNpcmNsZV9tYXJrZXJfNzEyZWRiN2Q4Zjg0NGUyMmE1ZjkwOGRiOTBmZWFiMjcgPSBMLmNpcmNsZU1hcmtlcigKICAgICAgICAgICAgICAgIFs0My42NDg4MjM3MDUyOTc3MywtNzkuMzczNzAyMTA4ODYwMDJdLAogICAgICAgICAgICAgICAgewogICJidWJibGluZ01vdXNlRXZlbnRzIjogdHJ1ZSwKICAiY29sb3IiOiAiIzMzODhmZiIsCiAgImRhc2hBcnJheSI6IG51bGwsCiAgImRhc2hPZmZzZXQiOiBudWxsLAogICJmaWxsIjogdHJ1ZSwKICAiZmlsbENvbG9yIjogImxpZ2h0cmVkIiwKICAiZmlsbE9wYWNpdHkiOiAwLjYsCiAgImZpbGxSdWxlIjogImV2ZW5vZGQiLAogICJsaW5lQ2FwIjogInJvdW5kIiwKICAibGluZUpvaW4iOiAicm91bmQiLAogICJvcGFjaXR5IjogMS4wLAogICJyYWRpdXMiOiAxMCwKICAic3Ryb2tlIjogdHJ1ZSwKICAid2VpZ2h0IjogMwp9CiAgICAgICAgICAgICAgICApLmFkZFRvKG1hcF9jZjA3Y2E5YmY0OTk0ZWZjOGRlZWJjZmZhNzk2NDBhYyk7CiAgICAgICAgICAgIAogICAgCiAgICAgICAgICAgIHZhciBwb3B1cF9iZWNlY2Q1YzRmMDM0OWRhOGM3Yzg0MzAyZGNkMjcxMiA9IEwucG9wdXAoe21heFdpZHRoOiAnMzAwJ30pOwoKICAgICAgICAgICAgCiAgICAgICAgICAgICAgICB2YXIgaHRtbF84NzA5NDE4NjU5YWM0MTlkYWRjYmY4Y2UzOTYwZDBkMSA9ICQoJzxkaXYgaWQ9Imh0bWxfODcwOTQxODY1OWFjNDE5ZGFkY2JmOGNlMzk2MGQwZDEiIHN0eWxlPSJ3aWR0aDogMTAwLjAlOyBoZWlnaHQ6IDEwMC4wJTsiPk01RTwvZGl2PicpWzBdOwogICAgICAgICAgICAgICAgcG9wdXBfYmVjZWNkNWM0ZjAzNDlkYThjN2M4NDMwMmRjZDI3MTIuc2V0Q29udGVudChodG1sXzg3MDk0MTg2NTlhYzQxOWRhZGNiZjhjZTM5NjBkMGQxKTsKICAgICAgICAgICAgCgogICAgICAgICAgICBjaXJjbGVfbWFya2VyXzcxMmVkYjdkOGY4NDRlMjJhNWY5MDhkYjkwZmVhYjI3LmJpbmRQb3B1cChwb3B1cF9iZWNlY2Q1YzRmMDM0OWRhOGM3Yzg0MzAyZGNkMjcxMik7CgogICAgICAgICAgICAKICAgICAgICAKICAgIAogICAgICAgICAgICB2YXIgY2lyY2xlX21hcmtlcl9hNTI3MDdmNTE4NmU0MjRiODNlNzY1MDg4ZTBmOTJhMiA9IEwuY2lyY2xlTWFya2VyKAogICAgICAgICAgICAgICAgWzQzLjY1OTMwMzEyOTI4MDkyLC03OS4zODI2Nzk0NjI0MzI4Nl0sCiAgICAgICAgICAgICAgICB7CiAgImJ1YmJsaW5nTW91c2VFdmVudHMiOiB0cnVlLAogICJjb2xvciI6ICIjMzM4OGZmIiwKICAiZGFzaEFycmF5IjogbnVsbCwKICAiZGFzaE9mZnNldCI6IG51bGwsCiAgImZpbGwiOiB0cnVlLAogICJmaWxsQ29sb3IiOiAicmVkIiwKICAiZmlsbE9wYWNpdHkiOiAwLjYsCiAgImZpbGxSdWxlIjogImV2ZW5vZGQiLAogICJsaW5lQ2FwIjogInJvdW5kIiwKICAibGluZUpvaW4iOiAicm91bmQiLAogICJvcGFjaXR5IjogMS4wLAogICJyYWRpdXMiOiAxMCwKICAic3Ryb2tlIjogdHJ1ZSwKICAid2VpZ2h0IjogMwp9CiAgICAgICAgICAgICAgICApLmFkZFRvKG1hcF9jZjA3Y2E5YmY0OTk0ZWZjOGRlZWJjZmZhNzk2NDBhYyk7CiAgICAgICAgICAgIAogICAgCiAgICAgICAgICAgIHZhciBwb3B1cF84ZTk4OTczY2E0M2Q0ZWRmYjAzZjIxYmQ0M2NhMDU3YiA9IEwucG9wdXAoe21heFdpZHRoOiAnMzAwJ30pOwoKICAgICAgICAgICAgCiAgICAgICAgICAgICAgICB2YXIgaHRtbF8xZmZjOTAxNGExYjM0MzUwYjMyYTI5OGU1ODJjZmE4MyA9ICQoJzxkaXYgaWQ9Imh0bWxfMWZmYzkwMTRhMWIzNDM1MGIzMmEyOThlNTgyY2ZhODMiIHN0eWxlPSJ3aWR0aDogMTAwLjAlOyBoZWlnaHQ6IDEwMC4wJTsiPk01QjwvZGl2PicpWzBdOwogICAgICAgICAgICAgICAgcG9wdXBfOGU5ODk3M2NhNDNkNGVkZmIwM2YyMWJkNDNjYTA1N2Iuc2V0Q29udGVudChodG1sXzFmZmM5MDE0YTFiMzQzNTBiMzJhMjk4ZTU4MmNmYTgzKTsKICAgICAgICAgICAgCgogICAgICAgICAgICBjaXJjbGVfbWFya2VyX2E1MjcwN2Y1MTg2ZTQyNGI4M2U3NjUwODhlMGY5MmEyLmJpbmRQb3B1cChwb3B1cF84ZTk4OTczY2E0M2Q0ZWRmYjAzZjIxYmQ0M2NhMDU3Yik7CgogICAgICAgICAgICAKICAgICAgICAKICAgIAogICAgICAgICAgICB2YXIgY2lyY2xlX21hcmtlcl82YjVjNGU2NTFmODQ0NzI0OTVlOTgxMmUwYjIxNTU2YyA9IEwuY2lyY2xlTWFya2VyKAogICAgICAgICAgICAgICAgWzQzLjY0MjYxODk5MDUxNTgxNCwtNzkuMzgyNjk1MzEwMDEzOTRdLAogICAgICAgICAgICAgICAgewogICJidWJibGluZ01vdXNlRXZlbnRzIjogdHJ1ZSwKICAiY29sb3IiOiAiIzMzODhmZiIsCiAgImRhc2hBcnJheSI6IG51bGwsCiAgImRhc2hPZmZzZXQiOiBudWxsLAogICJmaWxsIjogdHJ1ZSwKICAiZmlsbENvbG9yIjogInB1cnBsZSIsCiAgImZpbGxPcGFjaXR5IjogMC42LAogICJmaWxsUnVsZSI6ICJldmVub2RkIiwKICAibGluZUNhcCI6ICJyb3VuZCIsCiAgImxpbmVKb2luIjogInJvdW5kIiwKICAib3BhY2l0eSI6IDEuMCwKICAicmFkaXVzIjogMTAsCiAgInN0cm9rZSI6IHRydWUsCiAgIndlaWdodCI6IDMKfQogICAgICAgICAgICAgICAgKS5hZGRUbyhtYXBfY2YwN2NhOWJmNDk5NGVmYzhkZWViY2ZmYTc5NjQwYWMpOwogICAgICAgICAgICAKICAgIAogICAgICAgICAgICB2YXIgcG9wdXBfOTQwYThhMmZhNmM0NGFkZDg2ZjM4YmY5N2UyZmZmZjAgPSBMLnBvcHVwKHttYXhXaWR0aDogJzMwMCd9KTsKCiAgICAgICAgICAgIAogICAgICAgICAgICAgICAgdmFyIGh0bWxfZjVlYjA3ZTIxMTNjNDcyMDg4N2MwMmQ0YTg0MTc3MzcgPSAkKCc8ZGl2IGlkPSJodG1sX2Y1ZWIwN2UyMTEzYzQ3MjA4ODdjMDJkNGE4NDE3NzM3IiBzdHlsZT0id2lkdGg6IDEwMC4wJTsgaGVpZ2h0OiAxMDAuMCU7Ij5NNUo8L2Rpdj4nKVswXTsKICAgICAgICAgICAgICAgIHBvcHVwXzk0MGE4YTJmYTZjNDRhZGQ4NmYzOGJmOTdlMmZmZmYwLnNldENvbnRlbnQoaHRtbF9mNWViMDdlMjExM2M0NzIwODg3YzAyZDRhODQxNzczNyk7CiAgICAgICAgICAgIAoKICAgICAgICAgICAgY2lyY2xlX21hcmtlcl82YjVjNGU2NTFmODQ0NzI0OTVlOTgxMmUwYjIxNTU2Yy5iaW5kUG9wdXAocG9wdXBfOTQwYThhMmZhNmM0NGFkZDg2ZjM4YmY5N2UyZmZmZjApOwoKICAgICAgICAgICAgCiAgICAgICAgCiAgICAKICAgICAgICAgICAgdmFyIGNpcmNsZV9tYXJrZXJfOWNkYjdkNmY5MjhkNGJmMWIyNjJhZTU1YWE5NGEwZWIgPSBMLmNpcmNsZU1hcmtlcigKICAgICAgICAgICAgICAgIFs0My42NDY3MTIwNzQwODc5MywtNzkuMzc0NzY3NjE2MzkxMThdLAogICAgICAgICAgICAgICAgewogICJidWJibGluZ01vdXNlRXZlbnRzIjogdHJ1ZSwKICAiY29sb3IiOiAiIzMzODhmZiIsCiAgImRhc2hBcnJheSI6IG51bGwsCiAgImRhc2hPZmZzZXQiOiBudWxsLAogICJmaWxsIjogdHJ1ZSwKICAiZmlsbENvbG9yIjogImxpZ2h0cmVkIiwKICAiZmlsbE9wYWNpdHkiOiAwLjYsCiAgImZpbGxSdWxlIjogImV2ZW5vZGQiLAogICJsaW5lQ2FwIjogInJvdW5kIiwKICAibGluZUpvaW4iOiAicm91bmQiLAogICJvcGFjaXR5IjogMS4wLAogICJyYWRpdXMiOiAxMCwKICAic3Ryb2tlIjogdHJ1ZSwKICAid2VpZ2h0IjogMwp9CiAgICAgICAgICAgICAgICApLmFkZFRvKG1hcF9jZjA3Y2E5YmY0OTk0ZWZjOGRlZWJjZmZhNzk2NDBhYyk7CiAgICAgICAgICAgIAogICAgCiAgICAgICAgICAgIHZhciBwb3B1cF8xZDczOTM4YWYzYWU0NWQ3ODIyYmYyYzJiNjgzMGUzZCA9IEwucG9wdXAoe21heFdpZHRoOiAnMzAwJ30pOwoKICAgICAgICAgICAgCiAgICAgICAgICAgICAgICB2YXIgaHRtbF9hODFmODAyM2UzYzc0M2VjOTdlNjdkMzdhZDc5ODNlMSA9ICQoJzxkaXYgaWQ9Imh0bWxfYTgxZjgwMjNlM2M3NDNlYzk3ZTY3ZDM3YWQ3OTgzZTEiIHN0eWxlPSJ3aWR0aDogMTAwLjAlOyBoZWlnaHQ6IDEwMC4wJTsiPk01RTwvZGl2PicpWzBdOwogICAgICAgICAgICAgICAgcG9wdXBfMWQ3MzkzOGFmM2FlNDVkNzgyMmJmMmMyYjY4MzBlM2Quc2V0Q29udGVudChodG1sX2E4MWY4MDIzZTNjNzQzZWM5N2U2N2QzN2FkNzk4M2UxKTsKICAgICAgICAgICAgCgogICAgICAgICAgICBjaXJjbGVfbWFya2VyXzljZGI3ZDZmOTI4ZDRiZjFiMjYyYWU1NWFhOTRhMGViLmJpbmRQb3B1cChwb3B1cF8xZDczOTM4YWYzYWU0NWQ3ODIyYmYyYzJiNjgzMGUzZCk7CgogICAgICAgICAgICAKICAgICAgICAKICAgIAogICAgICAgICAgICB2YXIgY2lyY2xlX21hcmtlcl83MTkwMzBkYTUwMmQ0OWFiOTE0YTU0NWI1NGM2MjQxNSA9IEwuY2lyY2xlTWFya2VyKAogICAgICAgICAgICAgICAgWzQzLjY1ODMzODE1MTI1ODg4LC03OS4zODE5MDIwNTQ3NTU0NF0sCiAgICAgICAgICAgICAgICB7CiAgImJ1YmJsaW5nTW91c2VFdmVudHMiOiB0cnVlLAogICJjb2xvciI6ICIjMzM4OGZmIiwKICAiZGFzaEFycmF5IjogbnVsbCwKICAiZGFzaE9mZnNldCI6IG51bGwsCiAgImZpbGwiOiB0cnVlLAogICJmaWxsQ29sb3IiOiAicmVkIiwKICAiZmlsbE9wYWNpdHkiOiAwLjYsCiAgImZpbGxSdWxlIjogImV2ZW5vZGQiLAogICJsaW5lQ2FwIjogInJvdW5kIiwKICAibGluZUpvaW4iOiAicm91bmQiLAogICJvcGFjaXR5IjogMS4wLAogICJyYWRpdXMiOiAxMCwKICAic3Ryb2tlIjogdHJ1ZSwKICAid2VpZ2h0IjogMwp9CiAgICAgICAgICAgICAgICApLmFkZFRvKG1hcF9jZjA3Y2E5YmY0OTk0ZWZjOGRlZWJjZmZhNzk2NDBhYyk7CiAgICAgICAgICAgIAogICAgCiAgICAgICAgICAgIHZhciBwb3B1cF82Nzk0NTFlZDNkZGU0YzlmYjU5MGZlYjA3YWUyZDY3YyA9IEwucG9wdXAoe21heFdpZHRoOiAnMzAwJ30pOwoKICAgICAgICAgICAgCiAgICAgICAgICAgICAgICB2YXIgaHRtbF82MGE5MDAxNTMyNmM0NGJiYjQzMzdiYWRkYTZmNzhjNSA9ICQoJzxkaXYgaWQ9Imh0bWxfNjBhOTAwMTUzMjZjNDRiYmI0MzM3YmFkZGE2Zjc4YzUiIHN0eWxlPSJ3aWR0aDogMTAwLjAlOyBoZWlnaHQ6IDEwMC4wJTsiPk01QjwvZGl2PicpWzBdOwogICAgICAgICAgICAgICAgcG9wdXBfNjc5NDUxZWQzZGRlNGM5ZmI1OTBmZWIwN2FlMmQ2N2Muc2V0Q29udGVudChodG1sXzYwYTkwMDE1MzI2YzQ0YmJiNDMzN2JhZGRhNmY3OGM1KTsKICAgICAgICAgICAgCgogICAgICAgICAgICBjaXJjbGVfbWFya2VyXzcxOTAzMGRhNTAyZDQ5YWI5MTRhNTQ1YjU0YzYyNDE1LmJpbmRQb3B1cChwb3B1cF82Nzk0NTFlZDNkZGU0YzlmYjU5MGZlYjA3YWUyZDY3Yyk7CgogICAgICAgICAgICAKICAgICAgICAKICAgIAogICAgICAgICAgICB2YXIgY2lyY2xlX21hcmtlcl83MmM3YmYxNmJhNjg0M2U0YTgyOTc1ZmExNGVlNGEzMiA9IEwuY2lyY2xlTWFya2VyKAogICAgICAgICAgICAgICAgWzQzLjY0OTU2NTc4MzQyMjMwNCwtNzkuMzc2MzU4ODE5NTg4MzhdLAogICAgICAgICAgICAgICAgewogICJidWJibGluZ01vdXNlRXZlbnRzIjogdHJ1ZSwKICAiY29sb3IiOiAiIzMzODhmZiIsCiAgImRhc2hBcnJheSI6IG51bGwsCiAgImRhc2hPZmZzZXQiOiBudWxsLAogICJmaWxsIjogdHJ1ZSwKICAiZmlsbENvbG9yIjogIm9yYW5nZSIsCiAgImZpbGxPcGFjaXR5IjogMC42LAogICJmaWxsUnVsZSI6ICJldmVub2RkIiwKICAibGluZUNhcCI6ICJyb3VuZCIsCiAgImxpbmVKb2luIjogInJvdW5kIiwKICAib3BhY2l0eSI6IDEuMCwKICAicmFkaXVzIjogMTAsCiAgInN0cm9rZSI6IHRydWUsCiAgIndlaWdodCI6IDMKfQogICAgICAgICAgICAgICAgKS5hZGRUbyhtYXBfY2YwN2NhOWJmNDk5NGVmYzhkZWViY2ZmYTc5NjQwYWMpOwogICAgICAgICAgICAKICAgIAogICAgICAgICAgICB2YXIgcG9wdXBfMWVhOTI2NjYzYTMwNDI2ZjhlNTNkMDRjZmYwMWYyZmIgPSBMLnBvcHVwKHttYXhXaWR0aDogJzMwMCd9KTsKCiAgICAgICAgICAgIAogICAgICAgICAgICAgICAgdmFyIGh0bWxfMDhhYTk1NmVmNjIyNGI1MDhkYWI1YzgwNmQ3YjcwMTcgPSAkKCc8ZGl2IGlkPSJodG1sXzA4YWE5NTZlZjYyMjRiNTA4ZGFiNWM4MDZkN2I3MDE3IiBzdHlsZT0id2lkdGg6IDEwMC4wJTsgaGVpZ2h0OiAxMDAuMCU7Ij5NNUM8L2Rpdj4nKVswXTsKICAgICAgICAgICAgICAgIHBvcHVwXzFlYTkyNjY2M2EzMDQyNmY4ZTUzZDA0Y2ZmMDFmMmZiLnNldENvbnRlbnQoaHRtbF8wOGFhOTU2ZWY2MjI0YjUwOGRhYjVjODA2ZDdiNzAxNyk7CiAgICAgICAgICAgIAoKICAgICAgICAgICAgY2lyY2xlX21hcmtlcl83MmM3YmYxNmJhNjg0M2U0YTgyOTc1ZmExNGVlNGEzMi5iaW5kUG9wdXAocG9wdXBfMWVhOTI2NjYzYTMwNDI2ZjhlNTNkMDRjZmYwMWYyZmIpOwoKICAgICAgICAgICAgCiAgICAgICAgCiAgICAKICAgICAgICAgICAgdmFyIGNpcmNsZV9tYXJrZXJfNjY3YTU1N2E2NzM0NDhiOWExN2ZjODI2ZmMzNWNiN2YgPSBMLmNpcmNsZU1hcmtlcigKICAgICAgICAgICAgICAgIFs0My42NjM4NTMyMzczMDIzNSwtNzkuMzg0MTg3NDI5MDkzMjNdLAogICAgICAgICAgICAgICAgewogICJidWJibGluZ01vdXNlRXZlbnRzIjogdHJ1ZSwKICAiY29sb3IiOiAiIzMzODhmZiIsCiAgImRhc2hBcnJheSI6IG51bGwsCiAgImRhc2hPZmZzZXQiOiBudWxsLAogICJmaWxsIjogdHJ1ZSwKICAiZmlsbENvbG9yIjogImRhcmtibHVlIiwKICAiZmlsbE9wYWNpdHkiOiAwLjYsCiAgImZpbGxSdWxlIjogImV2ZW5vZGQiLAogICJsaW5lQ2FwIjogInJvdW5kIiwKICAibGluZUpvaW4iOiAicm91bmQiLAogICJvcGFjaXR5IjogMS4wLAogICJyYWRpdXMiOiAxMCwKICAic3Ryb2tlIjogdHJ1ZSwKICAid2VpZ2h0IjogMwp9CiAgICAgICAgICAgICAgICApLmFkZFRvKG1hcF9jZjA3Y2E5YmY0OTk0ZWZjOGRlZWJjZmZhNzk2NDBhYyk7CiAgICAgICAgICAgIAogICAgCiAgICAgICAgICAgIHZhciBwb3B1cF9kZDg4NDUzNWNjMjU0OWYyOTNiMzQ5NzMzNjI2NjJiMSA9IEwucG9wdXAoe21heFdpZHRoOiAnMzAwJ30pOwoKICAgICAgICAgICAgCiAgICAgICAgICAgICAgICB2YXIgaHRtbF9jMjA5MzFiN2NmYzQ0ZTBmOWVhNWU3MGUyZjRmYzg3YSA9ICQoJzxkaXYgaWQ9Imh0bWxfYzIwOTMxYjdjZmM0NGUwZjllYTVlNzBlMmY0ZmM4N2EiIHN0eWxlPSJ3aWR0aDogMTAwLjAlOyBoZWlnaHQ6IDEwMC4wJTsiPk00WTwvZGl2PicpWzBdOwogICAgICAgICAgICAgICAgcG9wdXBfZGQ4ODQ1MzVjYzI1NDlmMjkzYjM0OTczMzYyNjYyYjEuc2V0Q29udGVudChodG1sX2MyMDkzMWI3Y2ZjNDRlMGY5ZWE1ZTcwZTJmNGZjODdhKTsKICAgICAgICAgICAgCgogICAgICAgICAgICBjaXJjbGVfbWFya2VyXzY2N2E1NTdhNjczNDQ4YjlhMTdmYzgyNmZjMzVjYjdmLmJpbmRQb3B1cChwb3B1cF9kZDg4NDUzNWNjMjU0OWYyOTNiMzQ5NzMzNjI2NjJiMSk7CgogICAgICAgICAgICAKICAgICAgICAKPC9zY3JpcHQ+ onload=\"this.contentDocument.open();this.contentDocument.write(atob(this.getAttribute('data-html')));this.contentDocument.close();\" allowfullscreen webkitallowfullscreen mozallowfullscreen></iframe></div></div>"
            ],
            "text/plain": [
              "<folium.folium.Map at 0x7fc8530de128>"
            ]
          },
          "metadata": {
            "tags": []
          },
          "execution_count": 192
        }
      ]
    }
  ]
}