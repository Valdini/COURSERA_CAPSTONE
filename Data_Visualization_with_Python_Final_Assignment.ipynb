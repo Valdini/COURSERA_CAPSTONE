{
  "nbformat": 4,
  "nbformat_minor": 0,
  "metadata": {
    "colab": {
      "name": "Data Visualization with Python_Final Assignment.ipynb",
      "provenance": [],
      "authorship_tag": "ABX9TyNQWpSyPwJQsDTwtxh11Tli",
      "include_colab_link": true
    },
    "kernelspec": {
      "name": "python3",
      "display_name": "Python 3"
    }
  },
  "cells": [
    {
      "cell_type": "markdown",
      "metadata": {
        "id": "view-in-github",
        "colab_type": "text"
      },
      "source": [
        "<a href=\"https://colab.research.google.com/github/Valdini/COURSERA_CAPSTONE/blob/main/Data_Visualization_with_Python_Final_Assignment.ipynb\" target=\"_parent\"><img src=\"https://colab.research.google.com/assets/colab-badge.svg\" alt=\"Open In Colab\"/></a>"
      ]
    },
    {
      "cell_type": "code",
      "metadata": {
        "id": "T_cbiqmPkcNz",
        "outputId": "190fbfa4-5833-4980-8d37-58e292cbaf27",
        "colab": {
          "base_uri": "https://localhost:8080/",
          "height": 233
        }
      },
      "source": [
        "import pandas as pd #importing pandas\n",
        "df_data = pd.read_csv('https://cocl.us/datascience_survey_data',index_col=False) #reading data\n",
        "df_data.columns = ['','Very interested','Somewhat interested','Not interested'] #setting/renaming table columns\n",
        "df_data"
      ],
      "execution_count": 7,
      "outputs": [
        {
          "output_type": "execute_result",
          "data": {
            "text/html": [
              "<div>\n",
              "<style scoped>\n",
              "    .dataframe tbody tr th:only-of-type {\n",
              "        vertical-align: middle;\n",
              "    }\n",
              "\n",
              "    .dataframe tbody tr th {\n",
              "        vertical-align: top;\n",
              "    }\n",
              "\n",
              "    .dataframe thead th {\n",
              "        text-align: right;\n",
              "    }\n",
              "</style>\n",
              "<table border=\"1\" class=\"dataframe\">\n",
              "  <thead>\n",
              "    <tr style=\"text-align: right;\">\n",
              "      <th></th>\n",
              "      <th></th>\n",
              "      <th>Very interested</th>\n",
              "      <th>Somewhat interested</th>\n",
              "      <th>Not interested</th>\n",
              "    </tr>\n",
              "  </thead>\n",
              "  <tbody>\n",
              "    <tr>\n",
              "      <th>0</th>\n",
              "      <td>Big Data (Spark / Hadoop)</td>\n",
              "      <td>1332</td>\n",
              "      <td>729</td>\n",
              "      <td>127</td>\n",
              "    </tr>\n",
              "    <tr>\n",
              "      <th>1</th>\n",
              "      <td>Data Analysis / Statistics</td>\n",
              "      <td>1688</td>\n",
              "      <td>444</td>\n",
              "      <td>60</td>\n",
              "    </tr>\n",
              "    <tr>\n",
              "      <th>2</th>\n",
              "      <td>Data Journalism</td>\n",
              "      <td>429</td>\n",
              "      <td>1081</td>\n",
              "      <td>610</td>\n",
              "    </tr>\n",
              "    <tr>\n",
              "      <th>3</th>\n",
              "      <td>Data Visualization</td>\n",
              "      <td>1340</td>\n",
              "      <td>734</td>\n",
              "      <td>102</td>\n",
              "    </tr>\n",
              "    <tr>\n",
              "      <th>4</th>\n",
              "      <td>Deep Learning</td>\n",
              "      <td>1263</td>\n",
              "      <td>770</td>\n",
              "      <td>136</td>\n",
              "    </tr>\n",
              "    <tr>\n",
              "      <th>5</th>\n",
              "      <td>Machine Learning</td>\n",
              "      <td>1629</td>\n",
              "      <td>477</td>\n",
              "      <td>74</td>\n",
              "    </tr>\n",
              "  </tbody>\n",
              "</table>\n",
              "</div>"
            ],
            "text/plain": [
              "                               ...  Not interested\n",
              "0   Big Data (Spark / Hadoop)  ...             127\n",
              "1  Data Analysis / Statistics  ...              60\n",
              "2             Data Journalism  ...             610\n",
              "3          Data Visualization  ...             102\n",
              "4               Deep Learning  ...             136\n",
              "5            Machine Learning  ...              74\n",
              "\n",
              "[6 rows x 4 columns]"
            ]
          },
          "metadata": {
            "tags": []
          },
          "execution_count": 7
        }
      ]
    }
  ]
}