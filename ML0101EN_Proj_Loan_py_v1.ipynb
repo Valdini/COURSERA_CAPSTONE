{
  "nbformat": 4,
  "nbformat_minor": 0,
  "metadata": {
    "kernelspec": {
      "display_name": "Python 3",
      "language": "python",
      "name": "python3"
    },
    "language_info": {
      "codemirror_mode": {
        "name": "ipython",
        "version": 3
      },
      "file_extension": ".py",
      "mimetype": "text/x-python",
      "name": "python",
      "nbconvert_exporter": "python",
      "pygments_lexer": "ipython3",
      "version": "3.7.6"
    },
    "colab": {
      "name": "ML0101EN-Proj-Loan-py-v1.ipynb",
      "provenance": [],
      "include_colab_link": true
    }
  },
  "cells": [
    {
      "cell_type": "markdown",
      "metadata": {
        "id": "view-in-github",
        "colab_type": "text"
      },
      "source": [
        "<a href=\"https://colab.research.google.com/github/Valdini/COURSERA_CAPSTONE/blob/main/ML0101EN_Proj_Loan_py_v1.ipynb\" target=\"_parent\"><img src=\"https://colab.research.google.com/assets/colab-badge.svg\" alt=\"Open In Colab\"/></a>"
      ]
    },
    {
      "cell_type": "markdown",
      "metadata": {
        "button": false,
        "new_sheet": false,
        "run_control": {
          "read_only": false
        },
        "id": "q0hT1MGsLf-W"
      },
      "source": [
        "<center>\n",
        "    <img src=\"https://s3-api.us-geo.objectstorage.softlayer.net/cf-courses-data/CognitiveClass/Logos/organization_logo/organization_logo.png\" width=\"300\" alt=\"cognitiveclass.ai logo\"  />\n",
        "</center>\n",
        "\n",
        "<h1 align=\"center\"><font size=\"5\">Classification with Python</font></h1>\n"
      ]
    },
    {
      "cell_type": "markdown",
      "metadata": {
        "button": false,
        "new_sheet": false,
        "run_control": {
          "read_only": false
        },
        "id": "M_f9t9ZvLf-Z"
      },
      "source": [
        "In this notebook we try to practice all the classification algorithms that we learned in this course.\n",
        "\n",
        "We load a dataset using Pandas library, and apply the following algorithms, and find the best one for this specific dataset by accuracy evaluation methods.\n",
        "\n",
        "Lets first load required libraries:\n"
      ]
    },
    {
      "cell_type": "code",
      "metadata": {
        "button": false,
        "new_sheet": false,
        "run_control": {
          "read_only": false
        },
        "id": "HitYTphALf-a"
      },
      "source": [
        "import itertools\n",
        "import numpy as np\n",
        "import matplotlib.pyplot as plt\n",
        "from matplotlib.ticker import NullFormatter\n",
        "import pandas as pd\n",
        "import numpy as np\n",
        "import matplotlib.ticker as ticker\n",
        "from sklearn import preprocessing\n",
        "%matplotlib inline"
      ],
      "execution_count": 2,
      "outputs": []
    },
    {
      "cell_type": "markdown",
      "metadata": {
        "button": false,
        "new_sheet": false,
        "run_control": {
          "read_only": false
        },
        "id": "HFau3tiWLf-f"
      },
      "source": [
        "### About dataset\n"
      ]
    },
    {
      "cell_type": "markdown",
      "metadata": {
        "button": false,
        "new_sheet": false,
        "run_control": {
          "read_only": false
        },
        "id": "q2wzUau0Lf-g"
      },
      "source": [
        "This dataset is about past loans. The **Loan_train.csv** data set includes details of 346 customers whose loan are already paid off or defaulted. It includes following fields:\n",
        "\n",
        "| Field          | Description                                                                           |\n",
        "| -------------- | ------------------------------------------------------------------------------------- |\n",
        "| Loan_status    | Whether a loan is paid off on in collection                                           |\n",
        "| Principal      | Basic principal loan amount at the                                                    |\n",
        "| Terms          | Origination terms which can be weekly (7 days), biweekly, and monthly payoff schedule |\n",
        "| Effective_date | When the loan got originated and took effects                                         |\n",
        "| Due_date       | Since it’s one-time payoff schedule, each loan has one single due date                |\n",
        "| Age            | Age of applicant                                                                      |\n",
        "| Education      | Education of applicant                                                                |\n",
        "| Gender         | The gender of applicant                                                               |\n"
      ]
    },
    {
      "cell_type": "markdown",
      "metadata": {
        "button": false,
        "new_sheet": false,
        "run_control": {
          "read_only": false
        },
        "id": "0OvKrBFKLf-h"
      },
      "source": [
        "Lets download the dataset\n"
      ]
    },
    {
      "cell_type": "code",
      "metadata": {
        "button": false,
        "new_sheet": false,
        "run_control": {
          "read_only": false
        },
        "id": "4lBkHuHGLf-i",
        "outputId": "9b2e59c3-91ef-4854-f283-7b6f3170d194",
        "colab": {
          "base_uri": "https://localhost:8080/",
          "height": 212
        }
      },
      "source": [
        "!wget -O loan_train.csv https://cf-courses-data.s3.us.cloud-object-storage.appdomain.cloud/IBMDeveloperSkillsNetwork-ML0101EN-SkillsNetwork/labs/FinalModule_Coursera/data/loan_train.csv"
      ],
      "execution_count": 3,
      "outputs": [
        {
          "output_type": "stream",
          "text": [
            "--2020-10-27 13:13:32--  https://cf-courses-data.s3.us.cloud-object-storage.appdomain.cloud/IBMDeveloperSkillsNetwork-ML0101EN-SkillsNetwork/labs/FinalModule_Coursera/data/loan_train.csv\n",
            "Resolving cf-courses-data.s3.us.cloud-object-storage.appdomain.cloud (cf-courses-data.s3.us.cloud-object-storage.appdomain.cloud)... 67.228.254.196\n",
            "Connecting to cf-courses-data.s3.us.cloud-object-storage.appdomain.cloud (cf-courses-data.s3.us.cloud-object-storage.appdomain.cloud)|67.228.254.196|:443... connected.\n",
            "HTTP request sent, awaiting response... 200 OK\n",
            "Length: 23101 (23K) [text/csv]\n",
            "Saving to: ‘loan_train.csv’\n",
            "\n",
            "loan_train.csv      100%[===================>]  22.56K  --.-KB/s    in 0.08s   \n",
            "\n",
            "2020-10-27 13:13:33 (270 KB/s) - ‘loan_train.csv’ saved [23101/23101]\n",
            "\n"
          ],
          "name": "stdout"
        }
      ]
    },
    {
      "cell_type": "markdown",
      "metadata": {
        "button": false,
        "new_sheet": false,
        "run_control": {
          "read_only": false
        },
        "id": "LexpS0c-Lf-n"
      },
      "source": [
        "### Load Data From CSV File\n"
      ]
    },
    {
      "cell_type": "code",
      "metadata": {
        "button": false,
        "new_sheet": false,
        "run_control": {
          "read_only": false
        },
        "id": "lV2YXeoBLf-n",
        "outputId": "5077d70f-b70c-41f7-eb0d-e5d72dd89a0e",
        "colab": {
          "base_uri": "https://localhost:8080/",
          "height": 194
        }
      },
      "source": [
        "df = pd.read_csv('loan_train.csv')\n",
        "df.head()"
      ],
      "execution_count": 4,
      "outputs": [
        {
          "output_type": "execute_result",
          "data": {
            "text/html": [
              "<div>\n",
              "<style scoped>\n",
              "    .dataframe tbody tr th:only-of-type {\n",
              "        vertical-align: middle;\n",
              "    }\n",
              "\n",
              "    .dataframe tbody tr th {\n",
              "        vertical-align: top;\n",
              "    }\n",
              "\n",
              "    .dataframe thead th {\n",
              "        text-align: right;\n",
              "    }\n",
              "</style>\n",
              "<table border=\"1\" class=\"dataframe\">\n",
              "  <thead>\n",
              "    <tr style=\"text-align: right;\">\n",
              "      <th></th>\n",
              "      <th>Unnamed: 0</th>\n",
              "      <th>Unnamed: 0.1</th>\n",
              "      <th>loan_status</th>\n",
              "      <th>Principal</th>\n",
              "      <th>terms</th>\n",
              "      <th>effective_date</th>\n",
              "      <th>due_date</th>\n",
              "      <th>age</th>\n",
              "      <th>education</th>\n",
              "      <th>Gender</th>\n",
              "    </tr>\n",
              "  </thead>\n",
              "  <tbody>\n",
              "    <tr>\n",
              "      <th>0</th>\n",
              "      <td>0</td>\n",
              "      <td>0</td>\n",
              "      <td>PAIDOFF</td>\n",
              "      <td>1000</td>\n",
              "      <td>30</td>\n",
              "      <td>9/8/2016</td>\n",
              "      <td>10/7/2016</td>\n",
              "      <td>45</td>\n",
              "      <td>High School or Below</td>\n",
              "      <td>male</td>\n",
              "    </tr>\n",
              "    <tr>\n",
              "      <th>1</th>\n",
              "      <td>2</td>\n",
              "      <td>2</td>\n",
              "      <td>PAIDOFF</td>\n",
              "      <td>1000</td>\n",
              "      <td>30</td>\n",
              "      <td>9/8/2016</td>\n",
              "      <td>10/7/2016</td>\n",
              "      <td>33</td>\n",
              "      <td>Bechalor</td>\n",
              "      <td>female</td>\n",
              "    </tr>\n",
              "    <tr>\n",
              "      <th>2</th>\n",
              "      <td>3</td>\n",
              "      <td>3</td>\n",
              "      <td>PAIDOFF</td>\n",
              "      <td>1000</td>\n",
              "      <td>15</td>\n",
              "      <td>9/8/2016</td>\n",
              "      <td>9/22/2016</td>\n",
              "      <td>27</td>\n",
              "      <td>college</td>\n",
              "      <td>male</td>\n",
              "    </tr>\n",
              "    <tr>\n",
              "      <th>3</th>\n",
              "      <td>4</td>\n",
              "      <td>4</td>\n",
              "      <td>PAIDOFF</td>\n",
              "      <td>1000</td>\n",
              "      <td>30</td>\n",
              "      <td>9/9/2016</td>\n",
              "      <td>10/8/2016</td>\n",
              "      <td>28</td>\n",
              "      <td>college</td>\n",
              "      <td>female</td>\n",
              "    </tr>\n",
              "    <tr>\n",
              "      <th>4</th>\n",
              "      <td>6</td>\n",
              "      <td>6</td>\n",
              "      <td>PAIDOFF</td>\n",
              "      <td>1000</td>\n",
              "      <td>30</td>\n",
              "      <td>9/9/2016</td>\n",
              "      <td>10/8/2016</td>\n",
              "      <td>29</td>\n",
              "      <td>college</td>\n",
              "      <td>male</td>\n",
              "    </tr>\n",
              "  </tbody>\n",
              "</table>\n",
              "</div>"
            ],
            "text/plain": [
              "   Unnamed: 0  Unnamed: 0.1 loan_status  ...  age             education  Gender\n",
              "0           0             0     PAIDOFF  ...   45  High School or Below    male\n",
              "1           2             2     PAIDOFF  ...   33              Bechalor  female\n",
              "2           3             3     PAIDOFF  ...   27               college    male\n",
              "3           4             4     PAIDOFF  ...   28               college  female\n",
              "4           6             6     PAIDOFF  ...   29               college    male\n",
              "\n",
              "[5 rows x 10 columns]"
            ]
          },
          "metadata": {
            "tags": []
          },
          "execution_count": 4
        }
      ]
    },
    {
      "cell_type": "code",
      "metadata": {
        "id": "mazGe5GULf-r",
        "outputId": "bc4ee8d0-bbee-4d9a-94de-6704ff92951b",
        "colab": {
          "base_uri": "https://localhost:8080/",
          "height": 35
        }
      },
      "source": [
        "df.shape"
      ],
      "execution_count": 5,
      "outputs": [
        {
          "output_type": "execute_result",
          "data": {
            "text/plain": [
              "(346, 10)"
            ]
          },
          "metadata": {
            "tags": []
          },
          "execution_count": 5
        }
      ]
    },
    {
      "cell_type": "markdown",
      "metadata": {
        "button": false,
        "new_sheet": false,
        "run_control": {
          "read_only": false
        },
        "id": "vnH1Od4WLf-w"
      },
      "source": [
        "### Convert to date time object\n"
      ]
    },
    {
      "cell_type": "code",
      "metadata": {
        "button": false,
        "new_sheet": false,
        "run_control": {
          "read_only": false
        },
        "id": "UT8o--IrLf-x",
        "outputId": "0df1acd2-3355-4535-ce2d-25032381d424",
        "colab": {
          "base_uri": "https://localhost:8080/",
          "height": 194
        }
      },
      "source": [
        "df['due_date'] = pd.to_datetime(df['due_date'])\n",
        "df['effective_date'] = pd.to_datetime(df['effective_date'])\n",
        "df.head()"
      ],
      "execution_count": 6,
      "outputs": [
        {
          "output_type": "execute_result",
          "data": {
            "text/html": [
              "<div>\n",
              "<style scoped>\n",
              "    .dataframe tbody tr th:only-of-type {\n",
              "        vertical-align: middle;\n",
              "    }\n",
              "\n",
              "    .dataframe tbody tr th {\n",
              "        vertical-align: top;\n",
              "    }\n",
              "\n",
              "    .dataframe thead th {\n",
              "        text-align: right;\n",
              "    }\n",
              "</style>\n",
              "<table border=\"1\" class=\"dataframe\">\n",
              "  <thead>\n",
              "    <tr style=\"text-align: right;\">\n",
              "      <th></th>\n",
              "      <th>Unnamed: 0</th>\n",
              "      <th>Unnamed: 0.1</th>\n",
              "      <th>loan_status</th>\n",
              "      <th>Principal</th>\n",
              "      <th>terms</th>\n",
              "      <th>effective_date</th>\n",
              "      <th>due_date</th>\n",
              "      <th>age</th>\n",
              "      <th>education</th>\n",
              "      <th>Gender</th>\n",
              "    </tr>\n",
              "  </thead>\n",
              "  <tbody>\n",
              "    <tr>\n",
              "      <th>0</th>\n",
              "      <td>0</td>\n",
              "      <td>0</td>\n",
              "      <td>PAIDOFF</td>\n",
              "      <td>1000</td>\n",
              "      <td>30</td>\n",
              "      <td>2016-09-08</td>\n",
              "      <td>2016-10-07</td>\n",
              "      <td>45</td>\n",
              "      <td>High School or Below</td>\n",
              "      <td>male</td>\n",
              "    </tr>\n",
              "    <tr>\n",
              "      <th>1</th>\n",
              "      <td>2</td>\n",
              "      <td>2</td>\n",
              "      <td>PAIDOFF</td>\n",
              "      <td>1000</td>\n",
              "      <td>30</td>\n",
              "      <td>2016-09-08</td>\n",
              "      <td>2016-10-07</td>\n",
              "      <td>33</td>\n",
              "      <td>Bechalor</td>\n",
              "      <td>female</td>\n",
              "    </tr>\n",
              "    <tr>\n",
              "      <th>2</th>\n",
              "      <td>3</td>\n",
              "      <td>3</td>\n",
              "      <td>PAIDOFF</td>\n",
              "      <td>1000</td>\n",
              "      <td>15</td>\n",
              "      <td>2016-09-08</td>\n",
              "      <td>2016-09-22</td>\n",
              "      <td>27</td>\n",
              "      <td>college</td>\n",
              "      <td>male</td>\n",
              "    </tr>\n",
              "    <tr>\n",
              "      <th>3</th>\n",
              "      <td>4</td>\n",
              "      <td>4</td>\n",
              "      <td>PAIDOFF</td>\n",
              "      <td>1000</td>\n",
              "      <td>30</td>\n",
              "      <td>2016-09-09</td>\n",
              "      <td>2016-10-08</td>\n",
              "      <td>28</td>\n",
              "      <td>college</td>\n",
              "      <td>female</td>\n",
              "    </tr>\n",
              "    <tr>\n",
              "      <th>4</th>\n",
              "      <td>6</td>\n",
              "      <td>6</td>\n",
              "      <td>PAIDOFF</td>\n",
              "      <td>1000</td>\n",
              "      <td>30</td>\n",
              "      <td>2016-09-09</td>\n",
              "      <td>2016-10-08</td>\n",
              "      <td>29</td>\n",
              "      <td>college</td>\n",
              "      <td>male</td>\n",
              "    </tr>\n",
              "  </tbody>\n",
              "</table>\n",
              "</div>"
            ],
            "text/plain": [
              "   Unnamed: 0  Unnamed: 0.1 loan_status  ...  age             education  Gender\n",
              "0           0             0     PAIDOFF  ...   45  High School or Below    male\n",
              "1           2             2     PAIDOFF  ...   33              Bechalor  female\n",
              "2           3             3     PAIDOFF  ...   27               college    male\n",
              "3           4             4     PAIDOFF  ...   28               college  female\n",
              "4           6             6     PAIDOFF  ...   29               college    male\n",
              "\n",
              "[5 rows x 10 columns]"
            ]
          },
          "metadata": {
            "tags": []
          },
          "execution_count": 6
        }
      ]
    },
    {
      "cell_type": "markdown",
      "metadata": {
        "button": false,
        "new_sheet": false,
        "run_control": {
          "read_only": false
        },
        "id": "gBmAlJMVLf-0"
      },
      "source": [
        "# Data visualization and pre-processing\n"
      ]
    },
    {
      "cell_type": "markdown",
      "metadata": {
        "button": false,
        "new_sheet": false,
        "run_control": {
          "read_only": false
        },
        "id": "OhI46H5qLf-0"
      },
      "source": [
        "Let’s see how many of each class is in our data set \n"
      ]
    },
    {
      "cell_type": "code",
      "metadata": {
        "button": false,
        "new_sheet": false,
        "run_control": {
          "read_only": false
        },
        "id": "8VxGrfuvLf-1",
        "outputId": "1bb69bf4-5ed1-4b37-eb0e-aa809aa61028",
        "colab": {
          "base_uri": "https://localhost:8080/",
          "height": 70
        }
      },
      "source": [
        "df['loan_status'].value_counts()"
      ],
      "execution_count": 7,
      "outputs": [
        {
          "output_type": "execute_result",
          "data": {
            "text/plain": [
              "PAIDOFF       260\n",
              "COLLECTION     86\n",
              "Name: loan_status, dtype: int64"
            ]
          },
          "metadata": {
            "tags": []
          },
          "execution_count": 7
        }
      ]
    },
    {
      "cell_type": "markdown",
      "metadata": {
        "button": false,
        "new_sheet": false,
        "run_control": {
          "read_only": false
        },
        "id": "dpB20_-vLf-4"
      },
      "source": [
        "260 people have paid off the loan on time while 86 have gone into collection \n"
      ]
    },
    {
      "cell_type": "markdown",
      "metadata": {
        "id": "Rn5HttmoLf-5"
      },
      "source": [
        "Lets plot some columns to underestand data better:\n"
      ]
    },
    {
      "cell_type": "code",
      "metadata": {
        "id": "WgdvckvELf-5",
        "outputId": "f4151a8a-a690-4f3b-89df-cbca2bc0509e",
        "colab": {
          "base_uri": "https://localhost:8080/",
          "height": 35
        }
      },
      "source": [
        "# notice: installing seaborn might takes a few minutes\n",
        "!conda install -c anaconda seaborn -y"
      ],
      "execution_count": 8,
      "outputs": [
        {
          "output_type": "stream",
          "text": [
            "/bin/bash: conda: command not found\n"
          ],
          "name": "stdout"
        }
      ]
    },
    {
      "cell_type": "code",
      "metadata": {
        "id": "DFb9CbNNLf-8",
        "outputId": "d89b64bc-09ae-4974-e836-ea609c6f1635",
        "colab": {
          "base_uri": "https://localhost:8080/",
          "height": 225
        }
      },
      "source": [
        "import seaborn as sns\n",
        "\n",
        "bins = np.linspace(df.Principal.min(), df.Principal.max(), 10)\n",
        "g = sns.FacetGrid(df, col=\"Gender\", hue=\"loan_status\", palette=\"Set1\", col_wrap=2)\n",
        "g.map(plt.hist, 'Principal', bins=bins, ec=\"k\")\n",
        "\n",
        "g.axes[-1].legend()\n",
        "plt.show()"
      ],
      "execution_count": 9,
      "outputs": [
        {
          "output_type": "display_data",
          "data": {
            "image/png": "[encoded data removed]",
            "text/plain": [
              "<Figure size 432x216 with 2 Axes>"
            ]
          },
          "metadata": {
            "tags": [],
            "needs_background": "light"
          }
        }
      ]
    },
    {
      "cell_type": "code",
      "metadata": {
        "button": false,
        "new_sheet": false,
        "run_control": {
          "read_only": false
        },
        "id": "nY7-SyL_Lf--",
        "outputId": "6e9736cd-87b2-4fc3-bbf7-14b7185a5a7f",
        "colab": {
          "base_uri": "https://localhost:8080/",
          "height": 225
        }
      },
      "source": [
        "bins = np.linspace(df.age.min(), df.age.max(), 10)\n",
        "g = sns.FacetGrid(df, col=\"Gender\", hue=\"loan_status\", palette=\"Set1\", col_wrap=2)\n",
        "g.map(plt.hist, 'age', bins=bins, ec=\"k\")\n",
        "\n",
        "g.axes[-1].legend()\n",
        "plt.show()"
      ],
      "execution_count": 10,
      "outputs": [
        {
          "output_type": "display_data",
          "data": {
            "image/png": "[encoded data removed]",
            "text/plain": [
              "<Figure size 432x216 with 2 Axes>"
            ]
          },
          "metadata": {
            "tags": [],
            "needs_background": "light"
          }
        }
      ]
    },
    {
      "cell_type": "markdown",
      "metadata": {
        "button": false,
        "new_sheet": false,
        "run_control": {
          "read_only": false
        },
        "id": "aOPYnT09Lf_C"
      },
      "source": [
        "# Pre-processing:  Feature selection/extraction\n"
      ]
    },
    {
      "cell_type": "markdown",
      "metadata": {
        "button": false,
        "new_sheet": false,
        "run_control": {
          "read_only": false
        },
        "id": "ox30js4NLf_D"
      },
      "source": [
        "### Lets look at the day of the week people get the loan\n"
      ]
    },
    {
      "cell_type": "code",
      "metadata": {
        "button": false,
        "new_sheet": false,
        "run_control": {
          "read_only": false
        },
        "id": "pyR2Pz6GLf_E",
        "outputId": "b63e13ba-0f20-4b3e-de28-2468fe949bd8",
        "colab": {
          "base_uri": "https://localhost:8080/",
          "height": 225
        }
      },
      "source": [
        "df['dayofweek'] = df['effective_date'].dt.dayofweek\n",
        "bins = np.linspace(df.dayofweek.min(), df.dayofweek.max(), 10)\n",
        "g = sns.FacetGrid(df, col=\"Gender\", hue=\"loan_status\", palette=\"Set1\", col_wrap=2)\n",
        "g.map(plt.hist, 'dayofweek', bins=bins, ec=\"k\")\n",
        "g.axes[-1].legend()\n",
        "plt.show()\n"
      ],
      "execution_count": 11,
      "outputs": [
        {
          "output_type": "display_data",
          "data": {
            "image/png": "[encoded data removed]",
            "text/plain": [
              "<Figure size 432x216 with 2 Axes>"
            ]
          },
          "metadata": {
            "tags": [],
            "needs_background": "light"
          }
        }
      ]
    },
    {
      "cell_type": "markdown",
      "metadata": {
        "button": false,
        "new_sheet": false,
        "run_control": {
          "read_only": false
        },
        "id": "8EbTlB3-Lf_H"
      },
      "source": [
        "We see that people who get the loan at the end of the week dont pay it off, so lets use Feature binarization to set a threshold values less then day 4 \n"
      ]
    },
    {
      "cell_type": "code",
      "metadata": {
        "button": false,
        "new_sheet": false,
        "run_control": {
          "read_only": false
        },
        "id": "Ngz5pOT9Lf_H",
        "outputId": "9caa9e06-bd3a-4115-f7b8-104809b07f95",
        "colab": {
          "base_uri": "https://localhost:8080/",
          "height": 194
        }
      },
      "source": [
        "df['weekend'] = df['dayofweek'].apply(lambda x: 1 if (x>3)  else 0)\n",
        "df.head()"
      ],
      "execution_count": 12,
      "outputs": [
        {
          "output_type": "execute_result",
          "data": {
            "text/html": [
              "<div>\n",
              "<style scoped>\n",
              "    .dataframe tbody tr th:only-of-type {\n",
              "        vertical-align: middle;\n",
              "    }\n",
              "\n",
              "    .dataframe tbody tr th {\n",
              "        vertical-align: top;\n",
              "    }\n",
              "\n",
              "    .dataframe thead th {\n",
              "        text-align: right;\n",
              "    }\n",
              "</style>\n",
              "<table border=\"1\" class=\"dataframe\">\n",
              "  <thead>\n",
              "    <tr style=\"text-align: right;\">\n",
              "      <th></th>\n",
              "      <th>Unnamed: 0</th>\n",
              "      <th>Unnamed: 0.1</th>\n",
              "      <th>loan_status</th>\n",
              "      <th>Principal</th>\n",
              "      <th>terms</th>\n",
              "      <th>effective_date</th>\n",
              "      <th>due_date</th>\n",
              "      <th>age</th>\n",
              "      <th>education</th>\n",
              "      <th>Gender</th>\n",
              "      <th>dayofweek</th>\n",
              "      <th>weekend</th>\n",
              "    </tr>\n",
              "  </thead>\n",
              "  <tbody>\n",
              "    <tr>\n",
              "      <th>0</th>\n",
              "      <td>0</td>\n",
              "      <td>0</td>\n",
              "      <td>PAIDOFF</td>\n",
              "      <td>1000</td>\n",
              "      <td>30</td>\n",
              "      <td>2016-09-08</td>\n",
              "      <td>2016-10-07</td>\n",
              "      <td>45</td>\n",
              "      <td>High School or Below</td>\n",
              "      <td>male</td>\n",
              "      <td>3</td>\n",
              "      <td>0</td>\n",
              "    </tr>\n",
              "    <tr>\n",
              "      <th>1</th>\n",
              "      <td>2</td>\n",
              "      <td>2</td>\n",
              "      <td>PAIDOFF</td>\n",
              "      <td>1000</td>\n",
              "      <td>30</td>\n",
              "      <td>2016-09-08</td>\n",
              "      <td>2016-10-07</td>\n",
              "      <td>33</td>\n",
              "      <td>Bechalor</td>\n",
              "      <td>female</td>\n",
              "      <td>3</td>\n",
              "      <td>0</td>\n",
              "    </tr>\n",
              "    <tr>\n",
              "      <th>2</th>\n",
              "      <td>3</td>\n",
              "      <td>3</td>\n",
              "      <td>PAIDOFF</td>\n",
              "      <td>1000</td>\n",
              "      <td>15</td>\n",
              "      <td>2016-09-08</td>\n",
              "      <td>2016-09-22</td>\n",
              "      <td>27</td>\n",
              "      <td>college</td>\n",
              "      <td>male</td>\n",
              "      <td>3</td>\n",
              "      <td>0</td>\n",
              "    </tr>\n",
              "    <tr>\n",
              "      <th>3</th>\n",
              "      <td>4</td>\n",
              "      <td>4</td>\n",
              "      <td>PAIDOFF</td>\n",
              "      <td>1000</td>\n",
              "      <td>30</td>\n",
              "      <td>2016-09-09</td>\n",
              "      <td>2016-10-08</td>\n",
              "      <td>28</td>\n",
              "      <td>college</td>\n",
              "      <td>female</td>\n",
              "      <td>4</td>\n",
              "      <td>1</td>\n",
              "    </tr>\n",
              "    <tr>\n",
              "      <th>4</th>\n",
              "      <td>6</td>\n",
              "      <td>6</td>\n",
              "      <td>PAIDOFF</td>\n",
              "      <td>1000</td>\n",
              "      <td>30</td>\n",
              "      <td>2016-09-09</td>\n",
              "      <td>2016-10-08</td>\n",
              "      <td>29</td>\n",
              "      <td>college</td>\n",
              "      <td>male</td>\n",
              "      <td>4</td>\n",
              "      <td>1</td>\n",
              "    </tr>\n",
              "  </tbody>\n",
              "</table>\n",
              "</div>"
            ],
            "text/plain": [
              "   Unnamed: 0  Unnamed: 0.1 loan_status  ...  Gender  dayofweek weekend\n",
              "0           0             0     PAIDOFF  ...    male          3       0\n",
              "1           2             2     PAIDOFF  ...  female          3       0\n",
              "2           3             3     PAIDOFF  ...    male          3       0\n",
              "3           4             4     PAIDOFF  ...  female          4       1\n",
              "4           6             6     PAIDOFF  ...    male          4       1\n",
              "\n",
              "[5 rows x 12 columns]"
            ]
          },
          "metadata": {
            "tags": []
          },
          "execution_count": 12
        }
      ]
    },
    {
      "cell_type": "markdown",
      "metadata": {
        "button": false,
        "new_sheet": false,
        "run_control": {
          "read_only": false
        },
        "id": "kUAyUYdrLf_K"
      },
      "source": [
        "## Convert Categorical features to numerical values\n"
      ]
    },
    {
      "cell_type": "markdown",
      "metadata": {
        "button": false,
        "new_sheet": false,
        "run_control": {
          "read_only": false
        },
        "id": "YMhmCM3mLf_L"
      },
      "source": [
        "Lets look at gender:\n"
      ]
    },
    {
      "cell_type": "code",
      "metadata": {
        "button": false,
        "new_sheet": false,
        "run_control": {
          "read_only": false
        },
        "id": "ct_J9ED-Lf_L",
        "outputId": "85ee56d2-9b3d-48db-e8e4-2f26c978f55e",
        "colab": {
          "base_uri": "https://localhost:8080/",
          "height": 124
        }
      },
      "source": [
        "df.groupby(['Gender'])['loan_status'].value_counts(normalize=True)"
      ],
      "execution_count": 13,
      "outputs": [
        {
          "output_type": "execute_result",
          "data": {
            "text/plain": [
              "Gender  loan_status\n",
              "female  PAIDOFF        0.865385\n",
              "        COLLECTION     0.134615\n",
              "male    PAIDOFF        0.731293\n",
              "        COLLECTION     0.268707\n",
              "Name: loan_status, dtype: float64"
            ]
          },
          "metadata": {
            "tags": []
          },
          "execution_count": 13
        }
      ]
    },
    {
      "cell_type": "markdown",
      "metadata": {
        "button": false,
        "new_sheet": false,
        "run_control": {
          "read_only": false
        },
        "id": "Rka1qPoSLf_O"
      },
      "source": [
        "86 % of female pay there loans while only 73 % of males pay there loan\n"
      ]
    },
    {
      "cell_type": "markdown",
      "metadata": {
        "button": false,
        "new_sheet": false,
        "run_control": {
          "read_only": false
        },
        "id": "K8BeO7yGLf_P"
      },
      "source": [
        "Lets convert male to 0 and female to 1:\n"
      ]
    },
    {
      "cell_type": "code",
      "metadata": {
        "button": false,
        "new_sheet": false,
        "run_control": {
          "read_only": false
        },
        "id": "1t_1bgotLf_P",
        "outputId": "f5af445b-a653-4e3e-d6ae-a78b72ef48aa",
        "colab": {
          "base_uri": "https://localhost:8080/",
          "height": 194
        }
      },
      "source": [
        "df['Gender'].replace(to_replace=['male','female'], value=[0,1],inplace=True)\n",
        "df.head()"
      ],
      "execution_count": 14,
      "outputs": [
        {
          "output_type": "execute_result",
          "data": {
            "text/html": [
              "<div>\n",
              "<style scoped>\n",
              "    .dataframe tbody tr th:only-of-type {\n",
              "        vertical-align: middle;\n",
              "    }\n",
              "\n",
              "    .dataframe tbody tr th {\n",
              "        vertical-align: top;\n",
              "    }\n",
              "\n",
              "    .dataframe thead th {\n",
              "        text-align: right;\n",
              "    }\n",
              "</style>\n",
              "<table border=\"1\" class=\"dataframe\">\n",
              "  <thead>\n",
              "    <tr style=\"text-align: right;\">\n",
              "      <th></th>\n",
              "      <th>Unnamed: 0</th>\n",
              "      <th>Unnamed: 0.1</th>\n",
              "      <th>loan_status</th>\n",
              "      <th>Principal</th>\n",
              "      <th>terms</th>\n",
              "      <th>effective_date</th>\n",
              "      <th>due_date</th>\n",
              "      <th>age</th>\n",
              "      <th>education</th>\n",
              "      <th>Gender</th>\n",
              "      <th>dayofweek</th>\n",
              "      <th>weekend</th>\n",
              "    </tr>\n",
              "  </thead>\n",
              "  <tbody>\n",
              "    <tr>\n",
              "      <th>0</th>\n",
              "      <td>0</td>\n",
              "      <td>0</td>\n",
              "      <td>PAIDOFF</td>\n",
              "      <td>1000</td>\n",
              "      <td>30</td>\n",
              "      <td>2016-09-08</td>\n",
              "      <td>2016-10-07</td>\n",
              "      <td>45</td>\n",
              "      <td>High School or Below</td>\n",
              "      <td>0</td>\n",
              "      <td>3</td>\n",
              "      <td>0</td>\n",
              "    </tr>\n",
              "    <tr>\n",
              "      <th>1</th>\n",
              "      <td>2</td>\n",
              "      <td>2</td>\n",
              "      <td>PAIDOFF</td>\n",
              "      <td>1000</td>\n",
              "      <td>30</td>\n",
              "      <td>2016-09-08</td>\n",
              "      <td>2016-10-07</td>\n",
              "      <td>33</td>\n",
              "      <td>Bechalor</td>\n",
              "      <td>1</td>\n",
              "      <td>3</td>\n",
              "      <td>0</td>\n",
              "    </tr>\n",
              "    <tr>\n",
              "      <th>2</th>\n",
              "      <td>3</td>\n",
              "      <td>3</td>\n",
              "      <td>PAIDOFF</td>\n",
              "      <td>1000</td>\n",
              "      <td>15</td>\n",
              "      <td>2016-09-08</td>\n",
              "      <td>2016-09-22</td>\n",
              "      <td>27</td>\n",
              "      <td>college</td>\n",
              "      <td>0</td>\n",
              "      <td>3</td>\n",
              "      <td>0</td>\n",
              "    </tr>\n",
              "    <tr>\n",
              "      <th>3</th>\n",
              "      <td>4</td>\n",
              "      <td>4</td>\n",
              "      <td>PAIDOFF</td>\n",
              "      <td>1000</td>\n",
              "      <td>30</td>\n",
              "      <td>2016-09-09</td>\n",
              "      <td>2016-10-08</td>\n",
              "      <td>28</td>\n",
              "      <td>college</td>\n",
              "      <td>1</td>\n",
              "      <td>4</td>\n",
              "      <td>1</td>\n",
              "    </tr>\n",
              "    <tr>\n",
              "      <th>4</th>\n",
              "      <td>6</td>\n",
              "      <td>6</td>\n",
              "      <td>PAIDOFF</td>\n",
              "      <td>1000</td>\n",
              "      <td>30</td>\n",
              "      <td>2016-09-09</td>\n",
              "      <td>2016-10-08</td>\n",
              "      <td>29</td>\n",
              "      <td>college</td>\n",
              "      <td>0</td>\n",
              "      <td>4</td>\n",
              "      <td>1</td>\n",
              "    </tr>\n",
              "  </tbody>\n",
              "</table>\n",
              "</div>"
            ],
            "text/plain": [
              "   Unnamed: 0  Unnamed: 0.1 loan_status  ...  Gender  dayofweek weekend\n",
              "0           0             0     PAIDOFF  ...       0          3       0\n",
              "1           2             2     PAIDOFF  ...       1          3       0\n",
              "2           3             3     PAIDOFF  ...       0          3       0\n",
              "3           4             4     PAIDOFF  ...       1          4       1\n",
              "4           6             6     PAIDOFF  ...       0          4       1\n",
              "\n",
              "[5 rows x 12 columns]"
            ]
          },
          "metadata": {
            "tags": []
          },
          "execution_count": 14
        }
      ]
    },
    {
      "cell_type": "markdown",
      "metadata": {
        "button": false,
        "new_sheet": false,
        "run_control": {
          "read_only": false
        },
        "id": "4EAz728ILf_R"
      },
      "source": [
        "## One Hot Encoding\n",
        "\n",
        "#### How about education?\n"
      ]
    },
    {
      "cell_type": "code",
      "metadata": {
        "button": false,
        "new_sheet": false,
        "run_control": {
          "read_only": false
        },
        "id": "or-AHOtbLf_S",
        "outputId": "6ce71654-8eac-4750-cd92-c4ec4ae2b59d",
        "colab": {
          "base_uri": "https://localhost:8080/",
          "height": 195
        }
      },
      "source": [
        "df.groupby(['education'])['loan_status'].value_counts(normalize=True)"
      ],
      "execution_count": 15,
      "outputs": [
        {
          "output_type": "execute_result",
          "data": {
            "text/plain": [
              "education             loan_status\n",
              "Bechalor              PAIDOFF        0.750000\n",
              "                      COLLECTION     0.250000\n",
              "High School or Below  PAIDOFF        0.741722\n",
              "                      COLLECTION     0.258278\n",
              "Master or Above       COLLECTION     0.500000\n",
              "                      PAIDOFF        0.500000\n",
              "college               PAIDOFF        0.765101\n",
              "                      COLLECTION     0.234899\n",
              "Name: loan_status, dtype: float64"
            ]
          },
          "metadata": {
            "tags": []
          },
          "execution_count": 15
        }
      ]
    },
    {
      "cell_type": "markdown",
      "metadata": {
        "button": false,
        "new_sheet": false,
        "run_control": {
          "read_only": false
        },
        "id": "YWpfoAvvLf_V"
      },
      "source": [
        "#### Feature befor One Hot Encoding\n"
      ]
    },
    {
      "cell_type": "code",
      "metadata": {
        "button": false,
        "new_sheet": false,
        "run_control": {
          "read_only": false
        },
        "id": "Ca2LKW4QLf_W",
        "outputId": "6f3cbf54-d55d-46b9-dc27-1b14a210d5fa",
        "colab": {
          "base_uri": "https://localhost:8080/",
          "height": 194
        }
      },
      "source": [
        "df[['Principal','terms','age','Gender','education']].head()"
      ],
      "execution_count": 16,
      "outputs": [
        {
          "output_type": "execute_result",
          "data": {
            "text/html": [
              "<div>\n",
              "<style scoped>\n",
              "    .dataframe tbody tr th:only-of-type {\n",
              "        vertical-align: middle;\n",
              "    }\n",
              "\n",
              "    .dataframe tbody tr th {\n",
              "        vertical-align: top;\n",
              "    }\n",
              "\n",
              "    .dataframe thead th {\n",
              "        text-align: right;\n",
              "    }\n",
              "</style>\n",
              "<table border=\"1\" class=\"dataframe\">\n",
              "  <thead>\n",
              "    <tr style=\"text-align: right;\">\n",
              "      <th></th>\n",
              "      <th>Principal</th>\n",
              "      <th>terms</th>\n",
              "      <th>age</th>\n",
              "      <th>Gender</th>\n",
              "      <th>education</th>\n",
              "    </tr>\n",
              "  </thead>\n",
              "  <tbody>\n",
              "    <tr>\n",
              "      <th>0</th>\n",
              "      <td>1000</td>\n",
              "      <td>30</td>\n",
              "      <td>45</td>\n",
              "      <td>0</td>\n",
              "      <td>High School or Below</td>\n",
              "    </tr>\n",
              "    <tr>\n",
              "      <th>1</th>\n",
              "      <td>1000</td>\n",
              "      <td>30</td>\n",
              "      <td>33</td>\n",
              "      <td>1</td>\n",
              "      <td>Bechalor</td>\n",
              "    </tr>\n",
              "    <tr>\n",
              "      <th>2</th>\n",
              "      <td>1000</td>\n",
              "      <td>15</td>\n",
              "      <td>27</td>\n",
              "      <td>0</td>\n",
              "      <td>college</td>\n",
              "    </tr>\n",
              "    <tr>\n",
              "      <th>3</th>\n",
              "      <td>1000</td>\n",
              "      <td>30</td>\n",
              "      <td>28</td>\n",
              "      <td>1</td>\n",
              "      <td>college</td>\n",
              "    </tr>\n",
              "    <tr>\n",
              "      <th>4</th>\n",
              "      <td>1000</td>\n",
              "      <td>30</td>\n",
              "      <td>29</td>\n",
              "      <td>0</td>\n",
              "      <td>college</td>\n",
              "    </tr>\n",
              "  </tbody>\n",
              "</table>\n",
              "</div>"
            ],
            "text/plain": [
              "   Principal  terms  age  Gender             education\n",
              "0       1000     30   45       0  High School or Below\n",
              "1       1000     30   33       1              Bechalor\n",
              "2       1000     15   27       0               college\n",
              "3       1000     30   28       1               college\n",
              "4       1000     30   29       0               college"
            ]
          },
          "metadata": {
            "tags": []
          },
          "execution_count": 16
        }
      ]
    },
    {
      "cell_type": "markdown",
      "metadata": {
        "button": false,
        "new_sheet": false,
        "run_control": {
          "read_only": false
        },
        "id": "HCnNuKqpLf_Z"
      },
      "source": [
        "#### Use one hot encoding technique to conver categorical varables to binary variables and append them to the feature Data Frame\n"
      ]
    },
    {
      "cell_type": "code",
      "metadata": {
        "button": false,
        "new_sheet": false,
        "run_control": {
          "read_only": false
        },
        "id": "Rz0gULqZLf_Z",
        "outputId": "e922570a-31b9-49a0-c388-96c0aaf09b04",
        "colab": {
          "base_uri": "https://localhost:8080/",
          "height": 194
        }
      },
      "source": [
        "Feature = df[['Principal','terms','age','Gender','weekend']]\n",
        "Feature = pd.concat([Feature,pd.get_dummies(df['education'])], axis=1)\n",
        "Feature.drop(['Master or Above'], axis = 1,inplace=True)\n",
        "Feature.head()\n"
      ],
      "execution_count": 17,
      "outputs": [
        {
          "output_type": "execute_result",
          "data": {
            "text/html": [
              "<div>\n",
              "<style scoped>\n",
              "    .dataframe tbody tr th:only-of-type {\n",
              "        vertical-align: middle;\n",
              "    }\n",
              "\n",
              "    .dataframe tbody tr th {\n",
              "        vertical-align: top;\n",
              "    }\n",
              "\n",
              "    .dataframe thead th {\n",
              "        text-align: right;\n",
              "    }\n",
              "</style>\n",
              "<table border=\"1\" class=\"dataframe\">\n",
              "  <thead>\n",
              "    <tr style=\"text-align: right;\">\n",
              "      <th></th>\n",
              "      <th>Principal</th>\n",
              "      <th>terms</th>\n",
              "      <th>age</th>\n",
              "      <th>Gender</th>\n",
              "      <th>weekend</th>\n",
              "      <th>Bechalor</th>\n",
              "      <th>High School or Below</th>\n",
              "      <th>college</th>\n",
              "    </tr>\n",
              "  </thead>\n",
              "  <tbody>\n",
              "    <tr>\n",
              "      <th>0</th>\n",
              "      <td>1000</td>\n",
              "      <td>30</td>\n",
              "      <td>45</td>\n",
              "      <td>0</td>\n",
              "      <td>0</td>\n",
              "      <td>0</td>\n",
              "      <td>1</td>\n",
              "      <td>0</td>\n",
              "    </tr>\n",
              "    <tr>\n",
              "      <th>1</th>\n",
              "      <td>1000</td>\n",
              "      <td>30</td>\n",
              "      <td>33</td>\n",
              "      <td>1</td>\n",
              "      <td>0</td>\n",
              "      <td>1</td>\n",
              "      <td>0</td>\n",
              "      <td>0</td>\n",
              "    </tr>\n",
              "    <tr>\n",
              "      <th>2</th>\n",
              "      <td>1000</td>\n",
              "      <td>15</td>\n",
              "      <td>27</td>\n",
              "      <td>0</td>\n",
              "      <td>0</td>\n",
              "      <td>0</td>\n",
              "      <td>0</td>\n",
              "      <td>1</td>\n",
              "    </tr>\n",
              "    <tr>\n",
              "      <th>3</th>\n",
              "      <td>1000</td>\n",
              "      <td>30</td>\n",
              "      <td>28</td>\n",
              "      <td>1</td>\n",
              "      <td>1</td>\n",
              "      <td>0</td>\n",
              "      <td>0</td>\n",
              "      <td>1</td>\n",
              "    </tr>\n",
              "    <tr>\n",
              "      <th>4</th>\n",
              "      <td>1000</td>\n",
              "      <td>30</td>\n",
              "      <td>29</td>\n",
              "      <td>0</td>\n",
              "      <td>1</td>\n",
              "      <td>0</td>\n",
              "      <td>0</td>\n",
              "      <td>1</td>\n",
              "    </tr>\n",
              "  </tbody>\n",
              "</table>\n",
              "</div>"
            ],
            "text/plain": [
              "   Principal  terms  age  ...  Bechalor  High School or Below  college\n",
              "0       1000     30   45  ...         0                     1        0\n",
              "1       1000     30   33  ...         1                     0        0\n",
              "2       1000     15   27  ...         0                     0        1\n",
              "3       1000     30   28  ...         0                     0        1\n",
              "4       1000     30   29  ...         0                     0        1\n",
              "\n",
              "[5 rows x 8 columns]"
            ]
          },
          "metadata": {
            "tags": []
          },
          "execution_count": 17
        }
      ]
    },
    {
      "cell_type": "markdown",
      "metadata": {
        "button": false,
        "new_sheet": false,
        "run_control": {
          "read_only": false
        },
        "id": "cr58d5IPLf_c"
      },
      "source": [
        "### Feature selection\n"
      ]
    },
    {
      "cell_type": "markdown",
      "metadata": {
        "button": false,
        "new_sheet": false,
        "run_control": {
          "read_only": false
        },
        "id": "FL_fUR_RLf_d"
      },
      "source": [
        "Lets defind feature sets, X:\n"
      ]
    },
    {
      "cell_type": "code",
      "metadata": {
        "button": false,
        "new_sheet": false,
        "run_control": {
          "read_only": false
        },
        "id": "oP2gkpeSLf_e",
        "outputId": "77ca53cf-bc09-4025-eec0-5dea85ef646e",
        "colab": {
          "base_uri": "https://localhost:8080/",
          "height": 194
        }
      },
      "source": [
        "X = Feature\n",
        "X[0:5]"
      ],
      "execution_count": 18,
      "outputs": [
        {
          "output_type": "execute_result",
          "data": {
            "text/html": [
              "<div>\n",
              "<style scoped>\n",
              "    .dataframe tbody tr th:only-of-type {\n",
              "        vertical-align: middle;\n",
              "    }\n",
              "\n",
              "    .dataframe tbody tr th {\n",
              "        vertical-align: top;\n",
              "    }\n",
              "\n",
              "    .dataframe thead th {\n",
              "        text-align: right;\n",
              "    }\n",
              "</style>\n",
              "<table border=\"1\" class=\"dataframe\">\n",
              "  <thead>\n",
              "    <tr style=\"text-align: right;\">\n",
              "      <th></th>\n",
              "      <th>Principal</th>\n",
              "      <th>terms</th>\n",
              "      <th>age</th>\n",
              "      <th>Gender</th>\n",
              "      <th>weekend</th>\n",
              "      <th>Bechalor</th>\n",
              "      <th>High School or Below</th>\n",
              "      <th>college</th>\n",
              "    </tr>\n",
              "  </thead>\n",
              "  <tbody>\n",
              "    <tr>\n",
              "      <th>0</th>\n",
              "      <td>1000</td>\n",
              "      <td>30</td>\n",
              "      <td>45</td>\n",
              "      <td>0</td>\n",
              "      <td>0</td>\n",
              "      <td>0</td>\n",
              "      <td>1</td>\n",
              "      <td>0</td>\n",
              "    </tr>\n",
              "    <tr>\n",
              "      <th>1</th>\n",
              "      <td>1000</td>\n",
              "      <td>30</td>\n",
              "      <td>33</td>\n",
              "      <td>1</td>\n",
              "      <td>0</td>\n",
              "      <td>1</td>\n",
              "      <td>0</td>\n",
              "      <td>0</td>\n",
              "    </tr>\n",
              "    <tr>\n",
              "      <th>2</th>\n",
              "      <td>1000</td>\n",
              "      <td>15</td>\n",
              "      <td>27</td>\n",
              "      <td>0</td>\n",
              "      <td>0</td>\n",
              "      <td>0</td>\n",
              "      <td>0</td>\n",
              "      <td>1</td>\n",
              "    </tr>\n",
              "    <tr>\n",
              "      <th>3</th>\n",
              "      <td>1000</td>\n",
              "      <td>30</td>\n",
              "      <td>28</td>\n",
              "      <td>1</td>\n",
              "      <td>1</td>\n",
              "      <td>0</td>\n",
              "      <td>0</td>\n",
              "      <td>1</td>\n",
              "    </tr>\n",
              "    <tr>\n",
              "      <th>4</th>\n",
              "      <td>1000</td>\n",
              "      <td>30</td>\n",
              "      <td>29</td>\n",
              "      <td>0</td>\n",
              "      <td>1</td>\n",
              "      <td>0</td>\n",
              "      <td>0</td>\n",
              "      <td>1</td>\n",
              "    </tr>\n",
              "  </tbody>\n",
              "</table>\n",
              "</div>"
            ],
            "text/plain": [
              "   Principal  terms  age  ...  Bechalor  High School or Below  college\n",
              "0       1000     30   45  ...         0                     1        0\n",
              "1       1000     30   33  ...         1                     0        0\n",
              "2       1000     15   27  ...         0                     0        1\n",
              "3       1000     30   28  ...         0                     0        1\n",
              "4       1000     30   29  ...         0                     0        1\n",
              "\n",
              "[5 rows x 8 columns]"
            ]
          },
          "metadata": {
            "tags": []
          },
          "execution_count": 18
        }
      ]
    },
    {
      "cell_type": "markdown",
      "metadata": {
        "button": false,
        "new_sheet": false,
        "run_control": {
          "read_only": false
        },
        "id": "ouES8SR7Lf_h"
      },
      "source": [
        "What are our lables?\n"
      ]
    },
    {
      "cell_type": "code",
      "metadata": {
        "button": false,
        "new_sheet": false,
        "run_control": {
          "read_only": false
        },
        "id": "bEoprWFlLf_h",
        "outputId": "c93f7f53-940e-4444-bbec-e29ec18c3441",
        "colab": {
          "base_uri": "https://localhost:8080/",
          "height": 52
        }
      },
      "source": [
        "y = df['loan_status'].values\n",
        "y[0:5]"
      ],
      "execution_count": 77,
      "outputs": [
        {
          "output_type": "execute_result",
          "data": {
            "text/plain": [
              "array(['PAIDOFF', 'PAIDOFF', 'PAIDOFF', 'PAIDOFF', 'PAIDOFF'],\n",
              "      dtype=object)"
            ]
          },
          "metadata": {
            "tags": []
          },
          "execution_count": 77
        }
      ]
    },
    {
      "cell_type": "markdown",
      "metadata": {
        "button": false,
        "new_sheet": false,
        "run_control": {
          "read_only": false
        },
        "id": "g5WvwjRvLf_l"
      },
      "source": [
        "## Normalize Data\n"
      ]
    },
    {
      "cell_type": "markdown",
      "metadata": {
        "button": false,
        "new_sheet": false,
        "run_control": {
          "read_only": false
        },
        "id": "rUHi8wHsLf_l"
      },
      "source": [
        "Data Standardization give data zero mean and unit variance (technically should be done after train test split )\n"
      ]
    },
    {
      "cell_type": "code",
      "metadata": {
        "button": false,
        "new_sheet": false,
        "run_control": {
          "read_only": false
        },
        "id": "Rmh4JtoFLf_m",
        "outputId": "fca75cc5-8979-4117-dade-ab5c790135dd",
        "colab": {
          "base_uri": "https://localhost:8080/",
          "height": 195
        }
      },
      "source": [
        "X= preprocessing.StandardScaler().fit(X).transform(X)\n",
        "X[0:5]"
      ],
      "execution_count": 20,
      "outputs": [
        {
          "output_type": "execute_result",
          "data": {
            "text/plain": [
              "array([[ 0.51578458,  0.92071769,  2.33152555, -0.42056004, -1.20577805,\n",
              "        -0.38170062,  1.13639374, -0.86968108],\n",
              "       [ 0.51578458,  0.92071769,  0.34170148,  2.37778177, -1.20577805,\n",
              "         2.61985426, -0.87997669, -0.86968108],\n",
              "       [ 0.51578458, -0.95911111, -0.65321055, -0.42056004, -1.20577805,\n",
              "        -0.38170062, -0.87997669,  1.14984679],\n",
              "       [ 0.51578458,  0.92071769, -0.48739188,  2.37778177,  0.82934003,\n",
              "        -0.38170062, -0.87997669,  1.14984679],\n",
              "       [ 0.51578458,  0.92071769, -0.3215732 , -0.42056004,  0.82934003,\n",
              "        -0.38170062, -0.87997669,  1.14984679]])"
            ]
          },
          "metadata": {
            "tags": []
          },
          "execution_count": 20
        }
      ]
    },
    {
      "cell_type": "markdown",
      "metadata": {
        "button": false,
        "new_sheet": false,
        "run_control": {
          "read_only": false
        },
        "id": "axZpND1qLf_p"
      },
      "source": [
        "# Classification\n"
      ]
    },
    {
      "cell_type": "markdown",
      "metadata": {
        "button": false,
        "new_sheet": false,
        "run_control": {
          "read_only": false
        },
        "id": "4hMO9KTdLf_p"
      },
      "source": [
        "Now, it is your turn, use the training set to build an accurate model. Then use the test set to report the accuracy of the model\n",
        "You should use the following algorithm:\n",
        "\n",
        "-   K Nearest Neighbor(KNN)\n",
        "-   Decision Tree\n",
        "-   Support Vector Machine\n",
        "-   Logistic Regression\n",
        "\n",
        "** Notice:** \n",
        "\n",
        "-   You can go above and change the pre-processing, feature selection, feature-extraction, and so on, to make a better model.\n",
        "-   You should use either scikit-learn, Scipy or Numpy libraries for developing the classification algorithms.\n",
        "-   You should include the code of the algorithm in the following cells.\n"
      ]
    },
    {
      "cell_type": "markdown",
      "metadata": {
        "id": "x_5kk_mVLf_q"
      },
      "source": [
        "# K Nearest Neighbor(KNN)\n",
        "\n",
        "Notice: You should find the best k to build the model with the best accuracy.  \n",
        "**warning:** You should not use the **loan_test.csv** for finding the best k, however, you can split your train_loan.csv into train and test to find the best **k**.\n"
      ]
    },
    {
      "cell_type": "code",
      "metadata": {
        "id": "Rgfs8e34Lf_u",
        "outputId": "0a2c539d-ae96-437d-ce8f-f8c25f92ad97",
        "colab": {
          "base_uri": "https://localhost:8080/",
          "height": 350
        }
      },
      "source": [
        "from sklearn.cluster import KMeans #importing k-means clustering algorithm\n",
        "distortions = []\n",
        "K = range(1,20)\n",
        "for k in K:\n",
        "    kmean = KMeans(n_clusters=k, random_state=0, n_init = 50, max_iter = 500)\n",
        "    kmean.fit(X,y)\n",
        "    distortions.append(kmean.inertia_)\n",
        "import matplotlib.pyplot as plt\n",
        "plt.figure(figsize=(10,5))\n",
        "plt.plot(K, distortions, 'bx-')\n",
        "plt.xlabel('k')\n",
        "plt.ylabel('Distortion')\n",
        "plt.title('The Elbow Method')\n",
        "plt.show()\n"
      ],
      "execution_count": 22,
      "outputs": [
        {
          "output_type": "display_data",
          "data": {
            "image/png": "[encoded data removed]",
            "text/plain": [
              "<Figure size 720x360 with 1 Axes>"
            ]
          },
          "metadata": {
            "tags": [],
            "needs_background": "light"
          }
        }
      ]
    },
    {
      "cell_type": "code",
      "metadata": {
        "id": "e-w3BVFGLf_s"
      },
      "source": [
        "from sklearn.model_selection import train_test_split\n",
        "X_train, X_test, y_train, y_test = train_test_split(X, y, test_size=0.33, random_state=42)"
      ],
      "execution_count": 78,
      "outputs": []
    },
    {
      "cell_type": "code",
      "metadata": {
        "id": "QXMvHMaiQXC6",
        "outputId": "5b324c0d-3f14-4e54-b224-ecf87fbd7800",
        "colab": {
          "base_uri": "https://localhost:8080/",
          "height": 35
        }
      },
      "source": [
        "from sklearn import preprocessing\n",
        "le = preprocessing.LabelEncoder()\n",
        "y_train = le.fit_transform(y_train)\n",
        "y_train = np.reshape(y_train, (y_train.size, 1))\n",
        "y_test = le.fit_transform(y_test)\n",
        "y_test = np.reshape(y_test, (y_test.size, 1))\n",
        "y_train.shape\n",
        "y_test.shape"
      ],
      "execution_count": 79,
      "outputs": [
        {
          "output_type": "execute_result",
          "data": {
            "text/plain": [
              "(115, 1)"
            ]
          },
          "metadata": {
            "tags": []
          },
          "execution_count": 79
        }
      ]
    },
    {
      "cell_type": "code",
      "metadata": {
        "id": "_k1HAECDLf_x",
        "outputId": "29526e24-9b8a-420d-f40d-4a49af53f3ab",
        "colab": {
          "base_uri": "https://localhost:8080/",
          "height": 52
        }
      },
      "source": [
        "km = KMeans(n_clusters=8, n_init = 10, max_iter = 300, tol=1e-04, random_state=0).fit(X_train, y_train)\n",
        "kmeans_predictor = km.fit_predict(y_test)"
      ],
      "execution_count": 80,
      "outputs": [
        {
          "output_type": "stream",
          "text": [
            "/usr/local/lib/python3.6/dist-packages/sklearn/cluster/_kmeans.py:1008: ConvergenceWarning: Number of distinct clusters (2) found smaller than n_clusters (8). Possibly due to duplicate points in X.\n",
            "  return self.fit(X, sample_weight=sample_weight).labels_\n"
          ],
          "name": "stderr"
        }
      ]
    },
    {
      "cell_type": "markdown",
      "metadata": {
        "id": "l44GeIE5Lf_0"
      },
      "source": [
        "# Decision Tree\n"
      ]
    },
    {
      "cell_type": "code",
      "metadata": {
        "id": "FZoBc1uzLf_1"
      },
      "source": [
        "from sklearn.tree import DecisionTreeClassifier\n",
        "tree_clf = DecisionTreeClassifier()"
      ],
      "execution_count": 90,
      "outputs": []
    },
    {
      "cell_type": "code",
      "metadata": {
        "id": "eeV-oJm1Lf_3"
      },
      "source": [
        "tree_fit = tree_clf.fit(X_train, y_train)"
      ],
      "execution_count": 91,
      "outputs": []
    },
    {
      "cell_type": "code",
      "metadata": {
        "id": "fQ7CbF8-Lf_5"
      },
      "source": [
        "tree_predictor = tree_fit.predict(X_test)"
      ],
      "execution_count": 93,
      "outputs": []
    },
    {
      "cell_type": "markdown",
      "metadata": {
        "id": "uKjJQMExLf_7"
      },
      "source": [
        "# Support Vector Machine\n"
      ]
    },
    {
      "cell_type": "code",
      "metadata": {
        "id": "omz2W1xrLf_7"
      },
      "source": [
        "from sklearn.svm import SVC\n",
        "svm_clf = SVC()"
      ],
      "execution_count": 94,
      "outputs": []
    },
    {
      "cell_type": "code",
      "metadata": {
        "id": "AKKJR_40Lf_-",
        "outputId": "9ff87470-de59-46c3-eefb-3995905d9bb6",
        "colab": {
          "base_uri": "https://localhost:8080/",
          "height": 72
        }
      },
      "source": [
        "svm_fit = svm_clf.fit(X_train, y_train)"
      ],
      "execution_count": 95,
      "outputs": [
        {
          "output_type": "stream",
          "text": [
            "/usr/local/lib/python3.6/dist-packages/sklearn/utils/validation.py:760: DataConversionWarning: A column-vector y was passed when a 1d array was expected. Please change the shape of y to (n_samples, ), for example using ravel().\n",
            "  y = column_or_1d(y, warn=True)\n"
          ],
          "name": "stderr"
        }
      ]
    },
    {
      "cell_type": "code",
      "metadata": {
        "id": "BiZKqJnnLgAA"
      },
      "source": [
        "svm_predictor = svm_fit.predict(X_test)"
      ],
      "execution_count": 96,
      "outputs": []
    },
    {
      "cell_type": "markdown",
      "metadata": {
        "id": "EyJj4l7tLgAC"
      },
      "source": [
        "# Logistic Regression\n"
      ]
    },
    {
      "cell_type": "code",
      "metadata": {
        "id": "7ew1IJlaLgAE"
      },
      "source": [
        "from sklearn.linear_model import LogisticRegression\n",
        "reg_clf = LogisticRegression()"
      ],
      "execution_count": 97,
      "outputs": []
    },
    {
      "cell_type": "code",
      "metadata": {
        "id": "qucH-yb9LgAH",
        "outputId": "daa452d2-390c-4098-a34c-6d41b7f95529",
        "colab": {
          "base_uri": "https://localhost:8080/",
          "height": 72
        }
      },
      "source": [
        "reg_fit = reg_clf.fit(X_train,y_train)"
      ],
      "execution_count": 98,
      "outputs": [
        {
          "output_type": "stream",
          "text": [
            "/usr/local/lib/python3.6/dist-packages/sklearn/utils/validation.py:760: DataConversionWarning: A column-vector y was passed when a 1d array was expected. Please change the shape of y to (n_samples, ), for example using ravel().\n",
            "  y = column_or_1d(y, warn=True)\n"
          ],
          "name": "stderr"
        }
      ]
    },
    {
      "cell_type": "code",
      "metadata": {
        "id": "8zlCVxsULgAK"
      },
      "source": [
        "reg_predictor = reg_fit.predict(X_test)"
      ],
      "execution_count": 99,
      "outputs": []
    },
    {
      "cell_type": "markdown",
      "metadata": {
        "id": "kWEPynFgLgAP"
      },
      "source": [
        "# Model Evaluation using Test set\n"
      ]
    },
    {
      "cell_type": "code",
      "metadata": {
        "id": "PawCONbDLgAQ"
      },
      "source": [
        "from sklearn.metrics import jaccard_score\n",
        "from sklearn.metrics import f1_score\n",
        "from sklearn.metrics import log_loss\n"
      ],
      "execution_count": 74,
      "outputs": []
    },
    {
      "cell_type": "markdown",
      "metadata": {
        "id": "6na93f8YLgAT"
      },
      "source": [
        "First, download and load the test set:\n"
      ]
    },
    {
      "cell_type": "code",
      "metadata": {
        "id": "iikXBHn_LgAT",
        "outputId": "ef04a49b-5df4-4a01-cc5d-8d36ced269a9",
        "colab": {
          "base_uri": "https://localhost:8080/",
          "height": 212
        }
      },
      "source": [
        "!wget -O loan_test.csv https://s3-api.us-geo.objectstorage.softlayer.net/cf-courses-data/CognitiveClass/ML0101ENv3/labs/loan_test.csv"
      ],
      "execution_count": 75,
      "outputs": [
        {
          "output_type": "stream",
          "text": [
            "--2020-10-27 13:50:22--  https://s3-api.us-geo.objectstorage.softlayer.net/cf-courses-data/CognitiveClass/ML0101ENv3/labs/loan_test.csv\n",
            "Resolving s3-api.us-geo.objectstorage.softlayer.net (s3-api.us-geo.objectstorage.softlayer.net)... 67.228.254.196\n",
            "Connecting to s3-api.us-geo.objectstorage.softlayer.net (s3-api.us-geo.objectstorage.softlayer.net)|67.228.254.196|:443... connected.\n",
            "HTTP request sent, awaiting response... 200 OK\n",
            "Length: 3642 (3.6K) [text/csv]\n",
            "Saving to: ‘loan_test.csv’\n",
            "\n",
            "loan_test.csv       100%[===================>]   3.56K  --.-KB/s    in 0s      \n",
            "\n",
            "2020-10-27 13:50:23 (596 MB/s) - ‘loan_test.csv’ saved [3642/3642]\n",
            "\n"
          ],
          "name": "stdout"
        }
      ]
    },
    {
      "cell_type": "markdown",
      "metadata": {
        "button": false,
        "new_sheet": false,
        "run_control": {
          "read_only": false
        },
        "id": "wfR5Ya4yLgAW"
      },
      "source": [
        "### Load Test set for evaluation\n"
      ]
    },
    {
      "cell_type": "code",
      "metadata": {
        "button": false,
        "new_sheet": false,
        "run_control": {
          "read_only": false
        },
        "id": "rGY88y42LgAW",
        "outputId": "ae1c2d51-47bf-41d3-e570-d94355de0a5a",
        "colab": {
          "base_uri": "https://localhost:8080/",
          "height": 194
        }
      },
      "source": [
        "test_df = pd.read_csv('loan_test.csv')\n",
        "test_df.head()"
      ],
      "execution_count": 76,
      "outputs": [
        {
          "output_type": "execute_result",
          "data": {
            "text/html": [
              "<div>\n",
              "<style scoped>\n",
              "    .dataframe tbody tr th:only-of-type {\n",
              "        vertical-align: middle;\n",
              "    }\n",
              "\n",
              "    .dataframe tbody tr th {\n",
              "        vertical-align: top;\n",
              "    }\n",
              "\n",
              "    .dataframe thead th {\n",
              "        text-align: right;\n",
              "    }\n",
              "</style>\n",
              "<table border=\"1\" class=\"dataframe\">\n",
              "  <thead>\n",
              "    <tr style=\"text-align: right;\">\n",
              "      <th></th>\n",
              "      <th>Unnamed: 0</th>\n",
              "      <th>Unnamed: 0.1</th>\n",
              "      <th>loan_status</th>\n",
              "      <th>Principal</th>\n",
              "      <th>terms</th>\n",
              "      <th>effective_date</th>\n",
              "      <th>due_date</th>\n",
              "      <th>age</th>\n",
              "      <th>education</th>\n",
              "      <th>Gender</th>\n",
              "    </tr>\n",
              "  </thead>\n",
              "  <tbody>\n",
              "    <tr>\n",
              "      <th>0</th>\n",
              "      <td>1</td>\n",
              "      <td>1</td>\n",
              "      <td>PAIDOFF</td>\n",
              "      <td>1000</td>\n",
              "      <td>30</td>\n",
              "      <td>9/8/2016</td>\n",
              "      <td>10/7/2016</td>\n",
              "      <td>50</td>\n",
              "      <td>Bechalor</td>\n",
              "      <td>female</td>\n",
              "    </tr>\n",
              "    <tr>\n",
              "      <th>1</th>\n",
              "      <td>5</td>\n",
              "      <td>5</td>\n",
              "      <td>PAIDOFF</td>\n",
              "      <td>300</td>\n",
              "      <td>7</td>\n",
              "      <td>9/9/2016</td>\n",
              "      <td>9/15/2016</td>\n",
              "      <td>35</td>\n",
              "      <td>Master or Above</td>\n",
              "      <td>male</td>\n",
              "    </tr>\n",
              "    <tr>\n",
              "      <th>2</th>\n",
              "      <td>21</td>\n",
              "      <td>21</td>\n",
              "      <td>PAIDOFF</td>\n",
              "      <td>1000</td>\n",
              "      <td>30</td>\n",
              "      <td>9/10/2016</td>\n",
              "      <td>10/9/2016</td>\n",
              "      <td>43</td>\n",
              "      <td>High School or Below</td>\n",
              "      <td>female</td>\n",
              "    </tr>\n",
              "    <tr>\n",
              "      <th>3</th>\n",
              "      <td>24</td>\n",
              "      <td>24</td>\n",
              "      <td>PAIDOFF</td>\n",
              "      <td>1000</td>\n",
              "      <td>30</td>\n",
              "      <td>9/10/2016</td>\n",
              "      <td>10/9/2016</td>\n",
              "      <td>26</td>\n",
              "      <td>college</td>\n",
              "      <td>male</td>\n",
              "    </tr>\n",
              "    <tr>\n",
              "      <th>4</th>\n",
              "      <td>35</td>\n",
              "      <td>35</td>\n",
              "      <td>PAIDOFF</td>\n",
              "      <td>800</td>\n",
              "      <td>15</td>\n",
              "      <td>9/11/2016</td>\n",
              "      <td>9/25/2016</td>\n",
              "      <td>29</td>\n",
              "      <td>Bechalor</td>\n",
              "      <td>male</td>\n",
              "    </tr>\n",
              "  </tbody>\n",
              "</table>\n",
              "</div>"
            ],
            "text/plain": [
              "   Unnamed: 0  Unnamed: 0.1 loan_status  ...  age             education  Gender\n",
              "0           1             1     PAIDOFF  ...   50              Bechalor  female\n",
              "1           5             5     PAIDOFF  ...   35       Master or Above    male\n",
              "2          21            21     PAIDOFF  ...   43  High School or Below  female\n",
              "3          24            24     PAIDOFF  ...   26               college    male\n",
              "4          35            35     PAIDOFF  ...   29              Bechalor    male\n",
              "\n",
              "[5 rows x 10 columns]"
            ]
          },
          "metadata": {
            "tags": []
          },
          "execution_count": 76
        }
      ]
    },
    {
      "cell_type": "code",
      "metadata": {
        "id": "-gXLYZjRLgAb"
      },
      "source": [
        "jac_km = jaccard_score(y_test,kmeans_predictor,average=None)\n",
        "jac_tree = jaccard_score(y_test,tree_predictor,average=None)\n",
        "jac_svm = jaccard_score(y_test,svm_predictor,average=None)\n",
        "jac_reg = jaccard_score(y_test,reg_predictor,average=None)\n",
        "f1_km = f1_score(y_test,kmeans_predictor,average=None)\n",
        "f1_tree = f1_score(y_test,tree_predictor,average=None)\n",
        "f1_svm = f1_score(y_test,svm_predictor,average=None)\n",
        "f1_reg = f1_score(y_test,reg_predictor,average=None)\n",
        "log_km = log_loss(y_test,kmeans_predictor)\n",
        "log_tree = log_loss(y_test,tree_predictor)\n",
        "log_svm = log_loss(y_test,svm_predictor)\n",
        "log_reg = log_loss(y_test,reg_predictor)"
      ],
      "execution_count": 102,
      "outputs": []
    },
    {
      "cell_type": "code",
      "metadata": {
        "id": "TLEhWp62LgAj"
      },
      "source": [
        "data = [['KNN', jac_km, f1_km, log_km], ['Decision Tree', jac_tree, f1_tree, log_tree], ['SVM', jac_svm, f1_svm, log_svm], ['LogisticRegression', jac_reg, f1_reg, log_reg]] "
      ],
      "execution_count": 103,
      "outputs": []
    },
    {
      "cell_type": "code",
      "metadata": {
        "id": "l8EcUksdLgAl",
        "outputId": "f01ac8d9-5706-4d21-8ab7-890983974f22",
        "colab": {
          "base_uri": "https://localhost:8080/",
          "height": 164
        }
      },
      "source": [
        "df = pd.DataFrame(data, columns = ['Algorith', 'Jaccard', 'F1-score', 'LogLoss'])\n",
        "df "
      ],
      "execution_count": 104,
      "outputs": [
        {
          "output_type": "execute_result",
          "data": {
            "text/html": [
              "<div>\n",
              "<style scoped>\n",
              "    .dataframe tbody tr th:only-of-type {\n",
              "        vertical-align: middle;\n",
              "    }\n",
              "\n",
              "    .dataframe tbody tr th {\n",
              "        vertical-align: top;\n",
              "    }\n",
              "\n",
              "    .dataframe thead th {\n",
              "        text-align: right;\n",
              "    }\n",
              "</style>\n",
              "<table border=\"1\" class=\"dataframe\">\n",
              "  <thead>\n",
              "    <tr style=\"text-align: right;\">\n",
              "      <th></th>\n",
              "      <th>Algorith</th>\n",
              "      <th>Jaccard</th>\n",
              "      <th>F1-score</th>\n",
              "      <th>LogLoss</th>\n",
              "    </tr>\n",
              "  </thead>\n",
              "  <tbody>\n",
              "    <tr>\n",
              "      <th>0</th>\n",
              "      <td>KNN</td>\n",
              "      <td>[0.0, 0.0, 0.0]</td>\n",
              "      <td>[0.0, 0.0, 0.0]</td>\n",
              "      <td>7.808948</td>\n",
              "    </tr>\n",
              "    <tr>\n",
              "      <th>1</th>\n",
              "      <td>Decision Tree</td>\n",
              "      <td>[0.19607843137254902, 0.6095238095238096]</td>\n",
              "      <td>[0.32786885245901637, 0.7573964497041421]</td>\n",
              "      <td>12.313936</td>\n",
              "    </tr>\n",
              "    <tr>\n",
              "      <th>2</th>\n",
              "      <td>SVM</td>\n",
              "      <td>[0.12195121951219512, 0.6727272727272727]</td>\n",
              "      <td>[0.2173913043478261, 0.8043478260869564]</td>\n",
              "      <td>10.812285</td>\n",
              "    </tr>\n",
              "    <tr>\n",
              "      <th>3</th>\n",
              "      <td>LogisticRegression</td>\n",
              "      <td>[0.15555555555555556, 0.6481481481481481]</td>\n",
              "      <td>[0.2692307692307692, 0.7865168539325842]</td>\n",
              "      <td>11.412945</td>\n",
              "    </tr>\n",
              "  </tbody>\n",
              "</table>\n",
              "</div>"
            ],
            "text/plain": [
              "             Algorith  ...    LogLoss\n",
              "0                 KNN  ...   7.808948\n",
              "1       Decision Tree  ...  12.313936\n",
              "2                 SVM  ...  10.812285\n",
              "3  LogisticRegression  ...  11.412945\n",
              "\n",
              "[4 rows x 4 columns]"
            ]
          },
          "metadata": {
            "tags": []
          },
          "execution_count": 104
        }
      ]
    },
    {
      "cell_type": "markdown",
      "metadata": {
        "id": "87opl60ILgAq"
      },
      "source": [
        "# Report\n",
        "\n",
        "You should be able to report the accuracy of the built model using different evaluation metrics:\n"
      ]
    },
    {
      "cell_type": "markdown",
      "metadata": {
        "id": "JjRrPZgiLgAr"
      },
      "source": [
        "| Algorithm          | Jaccard | F1-score | LogLoss |\n",
        "| ------------------ | ------- | -------- | ------- |\n",
        "| KNN                | ?       | ?        | NA      |\n",
        "| Decision Tree      | ?       | ?        | NA      |\n",
        "| SVM                | ?       | ?        | NA      |\n",
        "| LogisticRegression | ?       | ?        | ?       |\n"
      ]
    },
    {
      "cell_type": "markdown",
      "metadata": {
        "button": false,
        "new_sheet": false,
        "run_control": {
          "read_only": false
        },
        "id": "FiWz-5Y0LgAr"
      },
      "source": [
        "<h2>Want to learn more?</h2>\n",
        "\n",
        "IBM SPSS Modeler is a comprehensive analytics platform that has many machine learning algorithms. It has been designed to bring predictive intelligence to decisions made by individuals, by groups, by systems – by your enterprise as a whole. A free trial is available through this course, available here: <a href=\"http://cocl.us/ML0101EN-SPSSModeler\">SPSS Modeler</a>\n",
        "\n",
        "Also, you can use Watson Studio to run these notebooks faster with bigger datasets. Watson Studio is IBM's leading cloud solution for data scientists, built by data scientists. With Jupyter notebooks, RStudio, Apache Spark and popular libraries pre-packaged in the cloud, Watson Studio enables data scientists to collaborate on their projects without having to install anything. Join the fast-growing community of Watson Studio users today with a free account at <a href=\"https://cocl.us/ML0101EN_DSX\">Watson Studio</a>\n",
        "\n",
        "<h3>Thanks for completing this lesson!</h3>\n",
        "\n",
        "<h4>Author:  <a href=\"https://ca.linkedin.com/in/saeedaghabozorgi\">Saeed Aghabozorgi</a></h4>\n",
        "<p><a href=\"https://ca.linkedin.com/in/saeedaghabozorgi\">Saeed Aghabozorgi</a>, PhD is a Data Scientist in IBM with a track record of developing enterprise level applications that substantially increases clients’ ability to turn data into actionable knowledge. He is a researcher in data mining field and expert in developing advanced analytic methods like machine learning and statistical modelling on large datasets.</p>\n",
        "\n",
        "<hr>\n",
        "\n",
        "## Change Log\n",
        "\n",
        "| Date (YYYY-MM-DD) | Version | Changed By    | Change Description                                                             |\n",
        "| ----------------- | ------- | ------------- | ------------------------------------------------------------------------------ |\n",
        "| 2020-10-27        | 2.1     | Lakshmi Holla | Made changes in import statement due to updates in version of  sklearn library |\n",
        "| 2020-08-27        | 2.0     | Malika Singla | Added lab to GitLab                                                            |\n",
        "\n",
        "<hr>\n",
        "\n",
        "## <h3 align=\"center\"> © IBM Corporation 2020. All rights reserved. <h3/>\n",
        "\n",
        "<p>\n"
      ]
    }
  ]
}