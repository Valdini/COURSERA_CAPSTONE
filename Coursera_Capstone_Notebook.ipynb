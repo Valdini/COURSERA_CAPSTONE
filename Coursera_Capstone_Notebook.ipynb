{
  "nbformat": 4,
  "nbformat_minor": 0,
  "metadata": {
    "colab": {
      "name": "Coursera Capstone Notebook",
      "provenance": [],
      "authorship_tag": "ABX9TyPZWtPL7q8RlOBhyxV8/P7x",
      "include_colab_link": true
    },
    "kernelspec": {
      "name": "python3",
      "display_name": "Python 3"
    }
  },
  "cells": [
    {
      "cell_type": "markdown",
      "metadata": {
        "id": "view-in-github",
        "colab_type": "text"
      },
      "source": [
        "<a href=\"https://colab.research.google.com/github/Valdini/COURSERA_CAPSTONE/blob/main/Coursera_Capstone_Notebook.ipynb\" target=\"_parent\"><img src=\"https://colab.research.google.com/assets/colab-badge.svg\" alt=\"Open In Colab\"/></a>"
      ]
    },
    {
      "cell_type": "code",
      "metadata": {
        "id": "Du9fCFkH8oE6",
        "outputId": "66857458-192b-487e-ed2d-88544810db65",
        "colab": {
          "base_uri": "https://localhost:8080/",
          "height": 35
        }
      },
      "source": [
        "#This is a submission file for the IBM Data Science course on Coursera, capstone project\n",
        "import pandas as pd\n",
        "import numpy as np\n",
        "print(\"Hello Capstone Project Course!\")"
      ],
      "execution_count": 1,
      "outputs": [
        {
          "output_type": "stream",
          "text": [
            "Hello Capstone Project Course!\n"
          ],
          "name": "stdout"
        }
      ]
    }
  ]
}